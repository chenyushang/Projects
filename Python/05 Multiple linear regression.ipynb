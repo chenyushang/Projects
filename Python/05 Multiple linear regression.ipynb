{
 "cells": [
  {
   "cell_type": "markdown",
   "metadata": {},
   "source": [
    "# Multiple Linear Regression"
   ]
  },
  {
   "cell_type": "code",
   "execution_count": 1,
   "metadata": {
    "pycharm": {
     "is_executing": false
    }
   },
   "outputs": [],
   "source": [
    "## Import required packages\n",
    "\n",
    "%matplotlib inline\n",
    "from pathlib import Path\n",
    "\n",
    "import numpy as np\n",
    "import pandas as pd\n",
    "from sklearn.model_selection import train_test_split\n",
    "from sklearn.linear_model import LinearRegression, Lasso, Ridge, LassoCV, BayesianRidge\n",
    "import statsmodels.formula.api as sm\n",
    "import matplotlib.pylab as plt\n",
    "\n",
    "from dmba import regressionSummary, exhaustive_search\n",
    "from dmba import backward_elimination, forward_selection, stepwise_selection\n",
    "from dmba import adjusted_r2_score, AIC_score, BIC_score"
   ]
  },
  {
   "cell_type": "markdown",
   "metadata": {},
   "source": [
    "## Setup the predictors to use"
   ]
  },
  {
   "cell_type": "code",
   "execution_count": 2,
   "metadata": {
    "pycharm": {
     "is_executing": false
    }
   },
   "outputs": [
    {
     "name": "stdout",
     "output_type": "stream",
     "text": [
      "   Id                                          Model  Price  Age_08_04  \\\n",
      "0   1  TOYOTA Corolla 2.0 D4D HATCHB TERRA 2/3-Doors  13500         23   \n",
      "1   2  TOYOTA Corolla 2.0 D4D HATCHB TERRA 2/3-Doors  13750         23   \n",
      "2   3  TOYOTA Corolla 2.0 D4D HATCHB TERRA 2/3-Doors  13950         24   \n",
      "3   4  TOYOTA Corolla 2.0 D4D HATCHB TERRA 2/3-Doors  14950         26   \n",
      "4   5    TOYOTA Corolla 2.0 D4D HATCHB SOL 2/3-Doors  13750         30   \n",
      "\n",
      "   Mfg_Month  Mfg_Year     KM Fuel_Type  HP  Met_Color  ... Powered_Windows  \\\n",
      "0         10      2002  46986    Diesel  90          1  ...               1   \n",
      "1         10      2002  72937    Diesel  90          1  ...               0   \n",
      "2          9      2002  41711    Diesel  90          1  ...               0   \n",
      "3          7      2002  48000    Diesel  90          0  ...               0   \n",
      "4          3      2002  38500    Diesel  90          0  ...               1   \n",
      "\n",
      "   Power_Steering  Radio  Mistlamps  Sport_Model  Backseat_Divider  \\\n",
      "0               1      0          0            0                 1   \n",
      "1               1      0          0            0                 1   \n",
      "2               1      0          0            0                 1   \n",
      "3               1      0          0            0                 1   \n",
      "4               1      0          1            0                 1   \n",
      "\n",
      "   Metallic_Rim  Radio_cassette  Parking_Assistant  Tow_Bar  \n",
      "0             0               0                  0        0  \n",
      "1             0               0                  0        0  \n",
      "2             0               0                  0        0  \n",
      "3             0               0                  0        0  \n",
      "4             0               0                  0        0  \n",
      "\n",
      "[5 rows x 39 columns]\n",
      "intercept  -3273.568256256265\n",
      "           Predictor  coefficient\n",
      "0          Age_08_04  -120.342795\n",
      "1                 KM    -0.018881\n",
      "2                 HP    54.755205\n",
      "3          Met_Color   134.653818\n",
      "4          Automatic   429.862561\n",
      "5                 CC    -3.803782\n",
      "6              Doors   -51.624453\n",
      "7      Quarterly_Tax    11.518299\n",
      "8             Weight    17.930404\n",
      "9   Fuel_Type_Diesel  3127.650123\n",
      "10  Fuel_Type_Petrol  2247.469761\n",
      "\n",
      "Regression statistics\n",
      "\n",
      "                      Mean Error (ME) : -0.0000\n",
      "       Root Mean Squared Error (RMSE) : 1297.8076\n",
      "            Mean Absolute Error (MAE) : 952.5429\n",
      "          Mean Percentage Error (MPE) : -1.1601\n",
      "Mean Absolute Percentage Error (MAPE) : 9.3717\n"
     ]
    }
   ],
   "source": [
    "car_df = pd.read_csv('datasets/ToyotaCorolla.csv')\n",
    "print(car_df.head())\n",
    "\n",
    "predictors = ['Age_08_04', 'KM', 'Fuel_Type', 'HP', 'Met_Color', 'Automatic', 'CC', \n",
    "              'Doors', 'Quarterly_Tax', 'Weight']\n",
    "outcome = 'Price'\n",
    "\n",
    "# partition data\n",
    "X = pd.get_dummies(car_df[predictors], drop_first=True)\n",
    "y = car_df[outcome]\n",
    "train_X, valid_X, train_y, valid_y = train_test_split(X, y, test_size=0.4, random_state=9)\n",
    "\n",
    "car_lm = LinearRegression()\n",
    "car_lm.fit(train_X, train_y)\n",
    "\n",
    "# print coefficients\n",
    "print('intercept ', car_lm.intercept_)\n",
    "print(pd.DataFrame({'Predictor': X.columns, 'coefficient': car_lm.coef_}))\n",
    "\n",
    "# print performance measures\n",
    "regressionSummary(train_y, car_lm.predict(train_X))"
   ]
  },
  {
   "cell_type": "code",
   "execution_count": 3,
   "metadata": {
    "pycharm": {
     "is_executing": false
    }
   },
   "outputs": [
    {
     "name": "stdout",
     "output_type": "stream",
     "text": [
      "adjusted r2 :  0.8713150432593038\n",
      "AIC :  14813.451494097324\n",
      "BIC :  14875.306722654885\n"
     ]
    }
   ],
   "source": [
    "pred_y = car_lm.predict(train_X)\n",
    "\n",
    "print('adjusted r2 : ', adjusted_r2_score(train_y, pred_y, car_lm))\n",
    "print('AIC : ', AIC_score(train_y, pred_y, car_lm))\n",
    "print('BIC : ', BIC_score(train_y, pred_y, car_lm))"
   ]
  },
  {
   "cell_type": "markdown",
   "metadata": {},
   "source": [
    "## Make predictions for validation data and show residuals"
   ]
  },
  {
   "cell_type": "code",
   "execution_count": 4,
   "metadata": {
    "pycharm": {
     "is_executing": false
    }
   },
   "outputs": [
    {
     "name": "stdout",
     "output_type": "stream",
     "text": [
      "         Predicted  Actual     Residual\n",
      "323   12357.034811   11250 -1107.034811\n",
      "1388   8139.301799    8750   610.698201\n",
      "1148   6188.900720    6750   561.099280\n",
      "59    15682.160845   15999   316.839155\n",
      "613    7928.954085    7950    21.045915\n",
      "855    8978.945899    8950   -28.945899\n",
      "335   13382.237055   12500  -882.237055\n",
      "1419   8751.353262    8450  -301.353262\n",
      "489   11349.448496    9940 -1409.448496\n",
      "686    9320.909721    8950  -370.909721\n",
      "1343   8684.008838    8450  -234.008838\n",
      "634   11266.144223    8950 -2316.144223\n",
      "629    8697.517049    7750  -947.517049\n",
      "39    15739.000449   14750  -989.000449\n",
      "131   16748.738883   15950  -798.738883\n",
      "1302   7906.715170    7450  -456.715170\n",
      "1092   7346.708370    7250   -96.708370\n",
      "358   13493.016742   12750  -743.016742\n",
      "1347   8471.778942    7450 -1021.778942\n",
      "958    8926.613957    8950    23.386043\n",
      "\n",
      "Regression statistics\n",
      "\n",
      "                      Mean Error (ME) : -55.6439\n",
      "       Root Mean Squared Error (RMSE) : 1281.1812\n",
      "            Mean Absolute Error (MAE) : 950.8663\n",
      "          Mean Percentage Error (MPE) : -1.4186\n",
      "Mean Absolute Percentage Error (MAPE) : 9.4147\n"
     ]
    }
   ],
   "source": [
    "# Use predict() to make predictions on a new set\n",
    "car_lm_pred = car_lm.predict(valid_X)\n",
    "\n",
    "result = pd.DataFrame({'Predicted': car_lm_pred, 'Actual': valid_y,\n",
    "                       'Residual': valid_y - car_lm_pred})\n",
    "print(result.head(20))\n",
    "\n",
    "# Compute common accuracy measures\n",
    "regressionSummary(valid_y, car_lm_pred)"
   ]
  },
  {
   "cell_type": "markdown",
   "metadata": {},
   "source": [
    "## Determine the residuals and create a histogram"
   ]
  },
  {
   "cell_type": "code",
   "execution_count": 5,
   "metadata": {
    "pycharm": {
     "is_executing": false
    }
   },
   "outputs": [
    {
     "name": "stdout",
     "output_type": "stream",
     "text": [
      "Percentage 0.7739130434782608\n"
     ]
    },
    {
     "data": {
      "image/png": "[encoded data removed]",
      "text/plain": [
       "<Figure size 432x288 with 1 Axes>"
      ]
     },
     "metadata": {
      "needs_background": "light"
     },
     "output_type": "display_data"
    }
   ],
   "source": [
    "car_lm_pred = car_lm.predict(valid_X)\n",
    "all_residuals = valid_y - car_lm_pred\n",
    "\n",
    "# Determine the percentage of datapoints with a residual in [-1406, 1406] = approx. 75\\%\n",
    "print('Percentage', len(all_residuals[(all_residuals > -1406) & (all_residuals < 1406)]) / len(all_residuals))\n",
    "# print(all_residuals[(all_residuals > 25000)])\n",
    "\n",
    "ax = pd.DataFrame({'Residuals': all_residuals}).hist(bins=25)\n",
    "plt.tight_layout()\n",
    "plt.show()"
   ]
  },
  {
   "cell_type": "markdown",
   "metadata": {},
   "source": [
    "## Table 6.5\n",
    "Run an exhaustive search. The Fuel type column is categorical and needs to be converted into dummy variables."
   ]
  },
  {
   "cell_type": "code",
   "execution_count": 6,
   "metadata": {
    "pycharm": {
     "is_executing": false
    }
   },
   "outputs": [
    {
     "name": "stdout",
     "output_type": "stream",
     "text": [
      "     n     r2adj           AIC  Age_08_04  Automatic     CC  Doors  Fuel_Type_Diesel  \\\n",
      "0    1  0.768909  15307.600709       True      False  False  False             False   \n",
      "1    2  0.802709  15172.445461       True      False  False  False             False   \n",
      "2    3  0.848618  14945.388968       True      False  False  False             False   \n",
      "3    4  0.861114  14872.202174       True      False  False  False             False   \n",
      "4    5  0.863656  14857.290030       True      False   True  False             False   \n",
      "5    6  0.866380  14840.908156       True      False   True  False             False   \n",
      "6    7  0.867365  14835.528484       True      False   True  False              True   \n",
      "7    8  0.870635  14815.025439       True      False   True  False              True   \n",
      "8    9  0.871204  14812.217957       True       True   True  False              True   \n",
      "9   10  0.871318  14812.442763       True       True   True  False              True   \n",
      "10  11  0.871315  14813.451494       True       True   True   True              True   \n",
      "\n",
      "    Fuel_Type_Petrol     HP     KM  Met_Color  Quarterly_Tax  Weight  \n",
      "0              False  False  False      False          False   False  \n",
      "1              False   True  False      False          False   False  \n",
      "2              False  False   True      False          False    True  \n",
      "3              False   True   True      False          False    True  \n",
      "4              False   True   True      False          False    True  \n",
      "5              False   True   True      False           True    True  \n",
      "6              False   True   True      False           True    True  \n",
      "7               True   True   True      False           True    True  \n",
      "8               True   True   True      False           True    True  \n",
      "9               True   True   True       True           True    True  \n",
      "10              True   True   True       True           True    True  \n"
     ]
    }
   ],
   "source": [
    "def train_model(variables):\n",
    "    model = LinearRegression()\n",
    "    model.fit(train_X[variables], train_y)\n",
    "    return model\n",
    "\n",
    "def score_model(model, variables):\n",
    "    pred_y = model.predict(train_X[variables])\n",
    "    # we negate as score is optimized to be as low as possible\n",
    "    return -adjusted_r2_score(train_y, pred_y, model)\n",
    "\n",
    "allVariables = train_X.columns\n",
    "results = exhaustive_search(allVariables, train_model, score_model)\n",
    "\n",
    "data = []\n",
    "for result in results:\n",
    "    model = result['model']\n",
    "    variables = result['variables']\n",
    "    AIC = AIC_score(train_y, model.predict(train_X[variables]), model)\n",
    "    \n",
    "    d = {'n': result['n'], 'r2adj': -result['score'], 'AIC': AIC}\n",
    "    d.update({var: var in result['variables'] for var in allVariables})\n",
    "    data.append(d)\n",
    "pd.set_option('display.width', 100)\n",
    "print(pd.DataFrame(data, columns=('n', 'r2adj', 'AIC') + tuple(sorted(allVariables))))\n",
    "pd.reset_option('display.width')"
   ]
  },
  {
   "cell_type": "markdown",
   "metadata": {},
   "source": [
    "## Table 6.6 backward elimination"
   ]
  },
  {
   "cell_type": "code",
   "execution_count": 7,
   "metadata": {
    "pycharm": {
     "is_executing": false
    }
   },
   "outputs": [
    {
     "name": "stdout",
     "output_type": "stream",
     "text": [
      "Variables: Age_08_04, KM, HP, Met_Color, Automatic, CC, Doors, Quarterly_Tax, Weight, Fuel_Type_Diesel, Fuel_Type_Petrol\n",
      "Start: score=14813.45\n",
      "Step: score=14812.44, remove Doors\n",
      "Step: score=14812.22, remove Met_Color\n",
      "Step: score=14812.22, remove None\n",
      "['Age_08_04', 'KM', 'HP', 'Automatic', 'CC', 'Quarterly_Tax', 'Weight', 'Fuel_Type_Diesel', 'Fuel_Type_Petrol']\n"
     ]
    }
   ],
   "source": [
    "def train_model(variables):\n",
    "    model = LinearRegression()\n",
    "    model.fit(train_X[variables], train_y)\n",
    "    return model\n",
    "\n",
    "def score_model(model, variables):\n",
    "    return AIC_score(train_y, model.predict(train_X[variables]), model)\n",
    "\n",
    "best_model, best_variables = backward_elimination(train_X.columns, train_model, score_model, verbose=True)\n",
    "print(best_variables)"
   ]
  },
  {
   "cell_type": "code",
   "execution_count": 8,
   "metadata": {
    "pycharm": {
     "is_executing": false
    }
   },
   "outputs": [
    {
     "name": "stdout",
     "output_type": "stream",
     "text": [
      "\n",
      "Regression statistics\n",
      "\n",
      "                      Mean Error (ME) : -51.6823\n",
      "       Root Mean Squared Error (RMSE) : 1277.1360\n",
      "            Mean Absolute Error (MAE) : 945.7838\n",
      "          Mean Percentage Error (MPE) : -1.3598\n",
      "Mean Absolute Percentage Error (MAPE) : 9.3475\n"
     ]
    }
   ],
   "source": [
    "regressionSummary(valid_y, best_model.predict(valid_X[best_variables]))"
   ]
  },
  {
   "cell_type": "markdown",
   "metadata": {},
   "source": [
    "## Table 6.7 Forward selection"
   ]
  },
  {
   "cell_type": "code",
   "execution_count": 9,
   "metadata": {
    "pycharm": {
     "is_executing": false
    }
   },
   "outputs": [
    {
     "name": "stdout",
     "output_type": "stream",
     "text": [
      "Variables: Age_08_04, KM, HP, Met_Color, Automatic, CC, Doors, Quarterly_Tax, Weight, Fuel_Type_Diesel, Fuel_Type_Petrol\n",
      "Start: score=16567.92, constant\n",
      "Step: score=15307.60, add Age_08_04\n",
      "Step: score=15172.45, add HP\n",
      "Step: score=15055.00, add Weight\n",
      "Step: score=14872.20, add KM\n",
      "Step: score=14857.29, add CC\n",
      "Step: score=14840.91, add Quarterly_Tax\n",
      "Step: score=14835.53, add Fuel_Type_Diesel\n",
      "Step: score=14815.03, add Fuel_Type_Petrol\n",
      "Step: score=14812.22, add Automatic\n",
      "Step: score=14812.22, add None\n",
      "['Age_08_04', 'HP', 'Weight', 'KM', 'CC', 'Quarterly_Tax', 'Fuel_Type_Diesel', 'Fuel_Type_Petrol', 'Automatic']\n"
     ]
    }
   ],
   "source": [
    "# The initial model is the constant model - this requires special handling\n",
    "# in train_model and score_model\n",
    "def train_model(variables):\n",
    "    if len(variables) == 0:\n",
    "        return None\n",
    "    model = LinearRegression()\n",
    "    model.fit(train_X[variables], train_y)\n",
    "    return model\n",
    "\n",
    "def score_model(model, variables):\n",
    "    if len(variables) == 0:\n",
    "        return AIC_score(train_y, [train_y.mean()] * len(train_y), model, df=1)\n",
    "    return AIC_score(train_y, model.predict(train_X[variables]), model)\n",
    "\n",
    "best_model, best_variables = forward_selection(train_X.columns, train_model, score_model, verbose=True)\n",
    "print(best_variables)"
   ]
  },
  {
   "cell_type": "code",
   "execution_count": 10,
   "metadata": {
    "pycharm": {
     "is_executing": false
    }
   },
   "outputs": [
    {
     "name": "stdout",
     "output_type": "stream",
     "text": [
      "Variables: Age_08_04, KM, HP, Met_Color, Automatic, CC, Doors, Quarterly_Tax, Weight, Fuel_Type_Diesel, Fuel_Type_Petrol\n",
      "Start: score=16567.92, constant\n",
      "Step: score=15307.60, add Age_08_04\n",
      "Step: score=15172.45, add HP\n",
      "Step: score=15055.00, add Weight\n",
      "Step: score=14872.20, add KM\n",
      "Step: score=14857.29, add CC\n",
      "Step: score=14840.91, add Quarterly_Tax\n",
      "Step: score=14835.53, add Fuel_Type_Diesel\n",
      "Step: score=14815.03, add Fuel_Type_Petrol\n",
      "Step: score=14812.22, add Automatic\n",
      "Step: score=14812.22, unchanged None\n",
      "['Age_08_04', 'HP', 'Weight', 'KM', 'CC', 'Quarterly_Tax', 'Fuel_Type_Diesel', 'Fuel_Type_Petrol', 'Automatic']\n"
     ]
    }
   ],
   "source": [
    "best_model, best_variables = stepwise_selection(train_X.columns, train_model, score_model, verbose=True)\n",
    "print(best_variables)"
   ]
  },
  {
   "cell_type": "markdown",
   "metadata": {},
   "source": [
    "## Regularizization methods"
   ]
  },
  {
   "cell_type": "code",
   "execution_count": 11,
   "metadata": {
    "pycharm": {
     "is_executing": false
    }
   },
   "outputs": [
    {
     "name": "stdout",
     "output_type": "stream",
     "text": [
      "Car To Predict\n",
      "[[   23 45000    90     1     0  2000     3   210  1165     1     0]\n",
      " [   23 25000    90     1     0  2000     3   210  1165     1     0]\n",
      " [   12 70000    90     1     0  2000     3   210  1165     1     0]\n",
      " [   23 45000    90     1     0  2000     3   210  1165     0     1]\n",
      " [   23 45000    90     1     0  2000     3   210  1165     0     0]\n",
      " [   23 45000   110     1     0  2000     3   210  1165     1     0]\n",
      " [   23 45000    90     1     0  1100     3   210  1165     1     0]\n",
      " [   23 45000    90     1     0  2000     5   210  1165     1     0]] \n",
      "\n",
      "\n",
      "\n",
      "\n",
      "Lasso\n",
      "\n",
      "Regression statistics\n",
      "\n",
      "                      Mean Error (ME) : -39.9506\n",
      "       Root Mean Squared Error (RMSE) : 1310.2447\n",
      "            Mean Absolute Error (MAE) : 960.4061\n",
      "          Mean Percentage Error (MPE) : -1.3379\n",
      "Mean Absolute Percentage Error (MAPE) : 9.4863\n",
      "[16493.15300007 16897.54563357 17311.58979539 17169.27170058\n",
      " 16493.15300007 17060.04550047 17397.12757801 16403.72095686]\n",
      "\n",
      "\n",
      "Lasso Cross-Validation\n",
      "\n",
      "Regression statistics\n",
      "\n",
      "                      Mean Error (ME) : -43.0942\n",
      "       Root Mean Squared Error (RMSE) : 1357.8913\n",
      "            Mean Absolute Error (MAE) : 979.1898\n",
      "          Mean Percentage Error (MPE) : -1.7297\n",
      "Mean Absolute Percentage Error (MAPE) : 9.5797\n",
      "\n",
      "\n",
      "Lasso-CV chosen regularization:  5.051499098993721\n",
      "\n",
      "\n",
      "Lasso coefficients [-1.19429623e+02 -2.02635666e-02  2.26749718e+01  0.00000000e+00\n",
      "  0.00000000e+00 -0.00000000e+00 -0.00000000e+00  0.00000000e+00\n",
      "  1.55425177e+01 -0.00000000e+00  0.00000000e+00]\n",
      "[16337.30586016 16742.57719201 17144.44254982 16337.30586016\n",
      " 16337.30586016 16790.80529715 16337.30586016 16337.30586016]\n",
      "\n",
      "\n",
      "Ridge\n",
      "\n",
      "Regression statistics\n",
      "\n",
      "                      Mean Error (ME) : -65.8586\n",
      "       Root Mean Squared Error (RMSE) : 1785.2152\n",
      "            Mean Absolute Error (MAE) : 1266.6159\n",
      "          Mean Percentage Error (MPE) : -4.3833\n",
      "Mean Absolute Percentage Error (MAPE) : 11.9461\n",
      "[14695.13956379 15083.34193086 14919.96219038 14868.93275042\n",
      " 14703.61236527 15149.70721529 14567.13188963 14867.26881407]\n",
      "\n",
      "\n",
      "BayesianRidge\n",
      "\n",
      "Regression statistics\n",
      "\n",
      "                      Mean Error (ME) : -54.4682\n",
      "       Root Mean Squared Error (RMSE) : 1282.2198\n",
      "            Mean Absolute Error (MAE) : 950.7662\n",
      "          Mean Percentage Error (MPE) : -1.4183\n",
      "Mean Absolute Percentage Error (MAPE) : 9.4144\n",
      "Bayesian ridge chosen regularization:  0.002411609524156401\n",
      "[16818.29670783 17199.68752828 17661.40228918 16084.13446321\n",
      " 13956.22194068 17868.81288705 20041.03898868 16709.42842244]\n"
     ]
    }
   ],
   "source": [
    "print('Car To Predict')\n",
    "car_to_predict = np.array([\n",
    "                            [23, 45000, 90, 1, 0, 2000, 3, 210, 1165, 1, 0],    # CONTROL CASE\n",
    "                            [23, 25000, 90, 1, 0, 2000, 3, 210, 1165, 1, 0],    # less miles\n",
    "                            [12, 70000, 90, 1, 0, 2000, 3, 210, 1165, 1, 0],    # older\n",
    "                            [23, 45000, 90, 1, 0, 2000, 3, 210, 1165, 0, 1],    # not diesel, petrol\n",
    "                            [23, 45000, 90, 1, 0, 2000, 3, 210, 1165, 0, 0],    # not diesel, cng\n",
    "                            [23, 45000, 110, 1, 0, 2000, 3, 210, 1165, 1, 0],   # more horsepower\n",
    "                            [23, 45000, 90, 1, 0, 1100, 3, 210, 1165, 1, 0],   # smaller engine\n",
    "                            [23, 45000, 90, 1, 0, 2000, 5, 210, 1165, 1, 0],   # more doors\n",
    "                        ])\n",
    "print(car_to_predict, '\\n\\n')\n",
    "\n",
    "print('\\n\\nLasso')\n",
    "lasso = Lasso(normalize=True, alpha=1)\n",
    "lasso.fit(train_X, train_y)\n",
    "regressionSummary(valid_y, lasso.predict(valid_X))\n",
    "print(lasso.predict(car_to_predict))\n",
    "\n",
    "print('\\n\\nLasso Cross-Validation')\n",
    "lasso_cv = LassoCV(normalize=True, cv=100)\n",
    "lasso_cv.fit(train_X, train_y)\n",
    "regressionSummary(valid_y, lasso_cv.predict(valid_X))\n",
    "print('\\n\\nLasso-CV chosen regularization: ', lasso_cv.alpha_)\n",
    "print('\\n\\nLasso coefficients', lasso_cv.coef_)\n",
    "print(lasso_cv.predict(car_to_predict))\n",
    "\n",
    "print('\\n\\nRidge')\n",
    "ridge = Ridge(normalize=True, alpha=1)\n",
    "ridge.fit(train_X, train_y)\n",
    "regressionSummary(valid_y, ridge.predict(valid_X))\n",
    "print(ridge.predict(car_to_predict))\n",
    "\n",
    "print('\\n\\nBayesianRidge')\n",
    "bayesianRidge = BayesianRidge(normalize=True)\n",
    "bayesianRidge.fit(train_X, train_y)\n",
    "regressionSummary(valid_y, bayesianRidge.predict(valid_X))\n",
    "print('Bayesian ridge chosen regularization: ', bayesianRidge.lambda_ / bayesianRidge.alpha_)\n",
    "print(bayesianRidge.predict(car_to_predict))"
   ]
  },
  {
   "cell_type": "code",
   "execution_count": 12,
   "metadata": {
    "pycharm": {
     "is_executing": false
    }
   },
   "outputs": [
    {
     "name": "stdout",
     "output_type": "stream",
     "text": [
      "\n",
      "Regression statistics\n",
      "\n",
      "                      Mean Error (ME) : -55.6439\n",
      "       Root Mean Squared Error (RMSE) : 1281.1812\n",
      "            Mean Absolute Error (MAE) : 950.8663\n",
      "          Mean Percentage Error (MPE) : -1.4186\n",
      "Mean Absolute Percentage Error (MAPE) : 9.4147\n"
     ]
    }
   ],
   "source": [
    "linearRegression = LinearRegression(normalize=True).fit(train_X, train_y)\n",
    "regressionSummary(valid_y, linearRegression.predict(valid_X))"
   ]
  },
  {
   "cell_type": "code",
   "execution_count": 13,
   "metadata": {
    "pycharm": {
     "is_executing": false
    }
   },
   "outputs": [
    {
     "data": {
      "text/html": [
       "<div>\n",
       "<style scoped>\n",
       "    .dataframe tbody tr th:only-of-type {\n",
       "        vertical-align: middle;\n",
       "    }\n",
       "\n",
       "    .dataframe tbody tr th {\n",
       "        vertical-align: top;\n",
       "    }\n",
       "\n",
       "    .dataframe thead th {\n",
       "        text-align: right;\n",
       "    }\n",
       "</style>\n",
       "<table border=\"1\" class=\"dataframe\">\n",
       "  <thead>\n",
       "    <tr style=\"text-align: right;\">\n",
       "      <th></th>\n",
       "      <th>features</th>\n",
       "      <th>linear regression</th>\n",
       "      <th>lassoCV</th>\n",
       "      <th>ridge</th>\n",
       "      <th>bayesianRidge</th>\n",
       "    </tr>\n",
       "  </thead>\n",
       "  <tbody>\n",
       "    <tr>\n",
       "      <th>0</th>\n",
       "      <td>Age_08_04</td>\n",
       "      <td>-120.342795</td>\n",
       "      <td>-119.429623</td>\n",
       "      <td>-64.552326</td>\n",
       "      <td>-119.985828</td>\n",
       "    </tr>\n",
       "    <tr>\n",
       "      <th>1</th>\n",
       "      <td>KM</td>\n",
       "      <td>-0.018881</td>\n",
       "      <td>-0.020264</td>\n",
       "      <td>-0.019410</td>\n",
       "      <td>-0.019070</td>\n",
       "    </tr>\n",
       "    <tr>\n",
       "      <th>2</th>\n",
       "      <td>HP</td>\n",
       "      <td>54.755205</td>\n",
       "      <td>22.674972</td>\n",
       "      <td>22.728383</td>\n",
       "      <td>52.525809</td>\n",
       "    </tr>\n",
       "    <tr>\n",
       "      <th>3</th>\n",
       "      <td>Met_Color</td>\n",
       "      <td>134.653818</td>\n",
       "      <td>0.000000</td>\n",
       "      <td>212.746177</td>\n",
       "      <td>133.720431</td>\n",
       "    </tr>\n",
       "    <tr>\n",
       "      <th>4</th>\n",
       "      <td>Automatic</td>\n",
       "      <td>429.862561</td>\n",
       "      <td>0.000000</td>\n",
       "      <td>277.049507</td>\n",
       "      <td>420.039942</td>\n",
       "    </tr>\n",
       "    <tr>\n",
       "      <th>5</th>\n",
       "      <td>CC</td>\n",
       "      <td>-3.803782</td>\n",
       "      <td>-0.000000</td>\n",
       "      <td>0.142231</td>\n",
       "      <td>-3.580825</td>\n",
       "    </tr>\n",
       "    <tr>\n",
       "      <th>6</th>\n",
       "      <td>Doors</td>\n",
       "      <td>-51.624453</td>\n",
       "      <td>-0.000000</td>\n",
       "      <td>86.064625</td>\n",
       "      <td>-54.434143</td>\n",
       "    </tr>\n",
       "    <tr>\n",
       "      <th>7</th>\n",
       "      <td>Quarterly_Tax</td>\n",
       "      <td>11.518299</td>\n",
       "      <td>0.000000</td>\n",
       "      <td>4.698903</td>\n",
       "      <td>11.297397</td>\n",
       "    </tr>\n",
       "    <tr>\n",
       "      <th>8</th>\n",
       "      <td>Weight</td>\n",
       "      <td>17.930404</td>\n",
       "      <td>15.542518</td>\n",
       "      <td>12.589538</td>\n",
       "      <td>18.093039</td>\n",
       "    </tr>\n",
       "    <tr>\n",
       "      <th>9</th>\n",
       "      <td>Fuel_Type_Diesel</td>\n",
       "      <td>3127.650123</td>\n",
       "      <td>-0.000000</td>\n",
       "      <td>-8.472801</td>\n",
       "      <td>2862.074767</td>\n",
       "    </tr>\n",
       "    <tr>\n",
       "      <th>10</th>\n",
       "      <td>Fuel_Type_Petrol</td>\n",
       "      <td>2247.469761</td>\n",
       "      <td>0.000000</td>\n",
       "      <td>165.320385</td>\n",
       "      <td>2127.912523</td>\n",
       "    </tr>\n",
       "  </tbody>\n",
       "</table>\n",
       "</div>"
      ],
      "text/plain": [
       "            features  linear regression     lassoCV       ridge  bayesianRidge\n",
       "0          Age_08_04        -120.342795 -119.429623  -64.552326    -119.985828\n",
       "1                 KM          -0.018881   -0.020264   -0.019410      -0.019070\n",
       "2                 HP          54.755205   22.674972   22.728383      52.525809\n",
       "3          Met_Color         134.653818    0.000000  212.746177     133.720431\n",
       "4          Automatic         429.862561    0.000000  277.049507     420.039942\n",
       "5                 CC          -3.803782   -0.000000    0.142231      -3.580825\n",
       "6              Doors         -51.624453   -0.000000   86.064625     -54.434143\n",
       "7      Quarterly_Tax          11.518299    0.000000    4.698903      11.297397\n",
       "8             Weight          17.930404   15.542518   12.589538      18.093039\n",
       "9   Fuel_Type_Diesel        3127.650123   -0.000000   -8.472801    2862.074767\n",
       "10  Fuel_Type_Petrol        2247.469761    0.000000  165.320385    2127.912523"
      ]
     },
     "execution_count": 13,
     "metadata": {},
     "output_type": "execute_result"
    }
   ],
   "source": [
    "pd.DataFrame({'features': train_X.columns, \n",
    "              'linear regression': linearRegression.coef_, \n",
    "              'lassoCV': lasso_cv.coef_, \n",
    "              'ridge': ridge.coef_, \n",
    "              'bayesianRidge': bayesianRidge.coef_})"
   ]
  },
  {
   "cell_type": "markdown",
   "metadata": {},
   "source": [
    "## Table 6.10"
   ]
  },
  {
   "cell_type": "code",
   "execution_count": 14,
   "metadata": {
    "pycharm": {
     "is_executing": false
    }
   },
   "outputs": [
    {
     "name": "stdout",
     "output_type": "stream",
     "text": [
      "                            OLS Regression Results                            \n",
      "==============================================================================\n",
      "Dep. Variable:                  Price   R-squared:                       0.873\n",
      "Model:                            OLS   Adj. R-squared:                  0.871\n",
      "Method:                 Least Squares   F-statistic:                     530.4\n",
      "Date:                Wed, 03 Mar 2021   Prob (F-statistic):               0.00\n",
      "Time:                        17:44:52   Log-Likelihood:                -7393.7\n",
      "No. Observations:                 861   AIC:                         1.481e+04\n",
      "Df Residuals:                     849   BIC:                         1.487e+04\n",
      "Df Model:                          11                                         \n",
      "Covariance Type:            nonrobust                                         \n",
      "====================================================================================\n",
      "                       coef    std err          t      P>|t|      [0.025      0.975]\n",
      "------------------------------------------------------------------------------------\n",
      "Intercept        -3273.5683   1736.410     -1.885      0.060   -6681.727     134.591\n",
      "Age_08_04         -120.3428      3.406    -35.337      0.000    -127.027    -113.658\n",
      "KM                  -0.0189      0.002    -10.893      0.000      -0.022      -0.015\n",
      "HP                  54.7552      7.451      7.348      0.000      40.130      69.380\n",
      "Met_Color          134.6538     96.006      1.403      0.161     -53.783     323.091\n",
      "Automatic          429.8626    203.558      2.112      0.035      30.326     829.399\n",
      "CC                  -3.8038      0.713     -5.334      0.000      -5.203      -2.404\n",
      "Doors              -51.6245     52.201     -0.989      0.323    -154.083      50.835\n",
      "Quarterly_Tax       11.5183      2.116      5.442      0.000       7.364      15.672\n",
      "Weight              17.9304      1.673     10.719      0.000      14.647      21.214\n",
      "Fuel_Type_Diesel  3127.6501    661.066      4.731      0.000    1830.135    4425.165\n",
      "Fuel_Type_Petrol  2247.4698    472.339      4.758      0.000    1320.381    3174.559\n",
      "==============================================================================\n",
      "Omnibus:                      130.729   Durbin-Watson:                   2.102\n",
      "Prob(Omnibus):                  0.000   Jarque-Bera (JB):             1513.595\n",
      "Skew:                          -0.224   Prob(JB):                         0.00\n",
      "Kurtosis:                       9.480   Cond. No.                     3.05e+06\n",
      "==============================================================================\n",
      "\n",
      "Warnings:\n",
      "[1] Standard Errors assume that the covariance matrix of the errors is correctly specified.\n",
      "[2] The condition number is large, 3.05e+06. This might indicate that there are\n",
      "strong multicollinearity or other numerical problems.\n"
     ]
    }
   ],
   "source": [
    "# run a linear regression of Price on the remaining 11 predictors in the training set\n",
    "train_df = train_X.join(train_y)\n",
    "\n",
    "predictors = train_X.columns\n",
    "formula = 'Price ~ ' + ' + '.join(predictors)\n",
    "\n",
    "car_lm = sm.ols(formula=formula, data=train_df).fit()\n",
    "print(car_lm.summary())"
   ]
  },
  {
   "cell_type": "code",
   "execution_count": null,
   "metadata": {
    "pycharm": {
     "is_executing": false
    }
   },
   "outputs": [],
   "source": []
  }
 ],
 "metadata": {
  "kernelspec": {
   "display_name": "Python 3",
   "language": "python",
   "name": "python3"
  },
  "language_info": {
   "codemirror_mode": {
    "name": "ipython",
    "version": 3
   },
   "file_extension": ".py",
   "mimetype": "text/x-python",
   "name": "python",
   "nbconvert_exporter": "python",
   "pygments_lexer": "ipython3",
   "version": "3.8.8"
  },
  "pycharm": {
   "stem_cell": {
    "cell_type": "raw",
    "metadata": {
     "collapsed": false
    },
    "source": []
   }
  }
 },
 "nbformat": 4,
 "nbformat_minor": 4
}
