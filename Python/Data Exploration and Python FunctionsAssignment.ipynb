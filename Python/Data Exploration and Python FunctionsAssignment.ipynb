{
 "cells": [
  {
   "cell_type": "code",
   "execution_count": 5,
   "id": "94c12702",
   "metadata": {
    "scrolled": true
   },
   "outputs": [
    {
     "data": {
      "text/html": [
       "<div>\n",
       "<style scoped>\n",
       "    .dataframe tbody tr th:only-of-type {\n",
       "        vertical-align: middle;\n",
       "    }\n",
       "\n",
       "    .dataframe tbody tr th {\n",
       "        vertical-align: top;\n",
       "    }\n",
       "\n",
       "    .dataframe thead th {\n",
       "        text-align: right;\n",
       "    }\n",
       "</style>\n",
       "<table border=\"1\" class=\"dataframe\">\n",
       "  <thead>\n",
       "    <tr style=\"text-align: right;\">\n",
       "      <th></th>\n",
       "      <th>Year</th>\n",
       "      <th>Sex</th>\n",
       "      <th>Min degree</th>\n",
       "      <th>Total</th>\n",
       "      <th>White</th>\n",
       "      <th>Black</th>\n",
       "      <th>Hispanic</th>\n",
       "      <th>Asian</th>\n",
       "      <th>Pacific Islander</th>\n",
       "      <th>American Indian/Alaska Native</th>\n",
       "      <th>Two or more races</th>\n",
       "    </tr>\n",
       "  </thead>\n",
       "  <tbody>\n",
       "    <tr>\n",
       "      <th>0</th>\n",
       "      <td>1920</td>\n",
       "      <td>A</td>\n",
       "      <td>high school</td>\n",
       "      <td>---</td>\n",
       "      <td>22.0</td>\n",
       "      <td>6.3</td>\n",
       "      <td>---</td>\n",
       "      <td>---</td>\n",
       "      <td>---</td>\n",
       "      <td>---</td>\n",
       "      <td>---</td>\n",
       "    </tr>\n",
       "    <tr>\n",
       "      <th>1</th>\n",
       "      <td>1940</td>\n",
       "      <td>A</td>\n",
       "      <td>high school</td>\n",
       "      <td>38.1</td>\n",
       "      <td>41.2</td>\n",
       "      <td>12.3</td>\n",
       "      <td>---</td>\n",
       "      <td>---</td>\n",
       "      <td>---</td>\n",
       "      <td>---</td>\n",
       "      <td>---</td>\n",
       "    </tr>\n",
       "    <tr>\n",
       "      <th>2</th>\n",
       "      <td>1950</td>\n",
       "      <td>A</td>\n",
       "      <td>high school</td>\n",
       "      <td>52.8</td>\n",
       "      <td>56.3</td>\n",
       "      <td>23.6</td>\n",
       "      <td>---</td>\n",
       "      <td>---</td>\n",
       "      <td>---</td>\n",
       "      <td>---</td>\n",
       "      <td>---</td>\n",
       "    </tr>\n",
       "    <tr>\n",
       "      <th>3</th>\n",
       "      <td>1960</td>\n",
       "      <td>A</td>\n",
       "      <td>high school</td>\n",
       "      <td>60.7</td>\n",
       "      <td>63.7</td>\n",
       "      <td>38.6</td>\n",
       "      <td>---</td>\n",
       "      <td>---</td>\n",
       "      <td>---</td>\n",
       "      <td>---</td>\n",
       "      <td>---</td>\n",
       "    </tr>\n",
       "    <tr>\n",
       "      <th>4</th>\n",
       "      <td>1970</td>\n",
       "      <td>A</td>\n",
       "      <td>high school</td>\n",
       "      <td>75.4</td>\n",
       "      <td>77.8</td>\n",
       "      <td>58.4</td>\n",
       "      <td>---</td>\n",
       "      <td>---</td>\n",
       "      <td>---</td>\n",
       "      <td>---</td>\n",
       "      <td>---</td>\n",
       "    </tr>\n",
       "  </tbody>\n",
       "</table>\n",
       "</div>"
      ],
      "text/plain": [
       "   Year Sex   Min degree Total  White  Black Hispanic Asian Pacific Islander  \\\n",
       "0  1920   A  high school   ---   22.0    6.3      ---   ---              ---   \n",
       "1  1940   A  high school  38.1   41.2   12.3      ---   ---              ---   \n",
       "2  1950   A  high school  52.8   56.3   23.6      ---   ---              ---   \n",
       "3  1960   A  high school  60.7   63.7   38.6      ---   ---              ---   \n",
       "4  1970   A  high school  75.4   77.8   58.4      ---   ---              ---   \n",
       "\n",
       "  American Indian/Alaska Native Two or more races  \n",
       "0                           ---               ---  \n",
       "1                           ---               ---  \n",
       "2                           ---               ---  \n",
       "3                           ---               ---  \n",
       "4                           ---               ---  "
      ]
     },
     "execution_count": 5,
     "metadata": {},
     "output_type": "execute_result"
    }
   ],
   "source": [
    "import matplotlib.pylab as plt\n",
    "import pandas as pd\n",
    "import sklearn.metrics\n",
    "import sklearn.neighbors\n",
    "df = pd.read_csv('nces-ed-attainment.csv')\n",
    "df.head()"
   ]
  },
  {
   "cell_type": "code",
   "execution_count": 6,
   "id": "c3a3993d",
   "metadata": {},
   "outputs": [
    {
     "data": {
      "text/plain": [
       "<bound method DataFrame.info of      Year Sex   Min degree Total  White  Black Hispanic Asian  \\\n",
       "0    1920   A  high school    NA   22.0    6.3       NA    NA   \n",
       "1    1940   A  high school  38.1   41.2   12.3       NA    NA   \n",
       "2    1950   A  high school  52.8   56.3   23.6       NA    NA   \n",
       "3    1960   A  high school  60.7   63.7   38.6       NA    NA   \n",
       "4    1970   A  high school  75.4   77.8   58.4       NA    NA   \n",
       "..    ...  ..          ...   ...    ...    ...      ...   ...   \n",
       "209  2014   F     master's   9.3   11.1    5.0      3.6  20.8   \n",
       "210  2015   F     master's  10.4   12.0    7.2      4.1  23.2   \n",
       "211  2016   F     master's  11.2   12.3    6.3      6.3  28.8   \n",
       "212  2017   F     master's  10.5   11.8    6.8      5.0  25.8   \n",
       "213  2018   F     master's  10.7   12.6    6.2      3.8  29.9   \n",
       "\n",
       "    Pacific Islander American Indian/Alaska Native Two or more races  \n",
       "0                 NA                            NA                NA  \n",
       "1                 NA                            NA                NA  \n",
       "2                 NA                            NA                NA  \n",
       "3                 NA                            NA                NA  \n",
       "4                 NA                            NA                NA  \n",
       "..               ...                           ...               ...  \n",
       "209               NA                            NA               7.5  \n",
       "210               NA                            NA              10.2  \n",
       "211               NA                            NA               8.2  \n",
       "212               NA                            NA               5.4  \n",
       "213               NA                            NA                NA  \n",
       "\n",
       "[214 rows x 11 columns]>"
      ]
     },
     "execution_count": 6,
     "metadata": {},
     "output_type": "execute_result"
    }
   ],
   "source": [
    "df2 =df.replace('---','NA')\n",
    "df2.info"
   ]
  },
  {
   "cell_type": "code",
   "execution_count": 35,
   "id": "03829874",
   "metadata": {
    "scrolled": true
   },
   "outputs": [
    {
     "name": "stdout",
     "output_type": "stream",
     "text": [
      "Please input the start year:1920\n"
     ]
    }
   ],
   "source": [
    "start = int(input('Please input the start year:'))"
   ]
  },
  {
   "cell_type": "code",
   "execution_count": 39,
   "id": "6baa0e38",
   "metadata": {},
   "outputs": [
    {
     "name": "stdout",
     "output_type": "stream",
     "text": [
      "Please input the end year:2020\n"
     ]
    }
   ],
   "source": [
    "end = int(input('Please input the end year:'))"
   ]
  },
  {
   "cell_type": "code",
   "execution_count": 12,
   "id": "64b8585f",
   "metadata": {},
   "outputs": [
    {
     "name": "stdout",
     "output_type": "stream",
     "text": [
      "Please input the sex, A, F or M:F\n"
     ]
    }
   ],
   "source": [
    "sex = input('Please input the sex, A, F or M:')"
   ]
  },
  {
   "cell_type": "code",
   "execution_count": 15,
   "id": "07fb9d36",
   "metadata": {},
   "outputs": [],
   "source": [
    "start_day = pd.to_datetime(start)\n",
    "end_day = pd.to_datetime(end)"
   ]
  },
  {
   "cell_type": "code",
   "execution_count": 43,
   "id": "fe5b35ad",
   "metadata": {},
   "outputs": [],
   "source": [
    "df3 = df2[df2['Sex'] == sex]"
   ]
  },
  {
   "cell_type": "code",
   "execution_count": 44,
   "id": "ad2ff0dc",
   "metadata": {
    "scrolled": true
   },
   "outputs": [
    {
     "data": {
      "text/plain": [
       "<bound method DataFrame.info of      Year Sex   Min degree Total  White  Black Hispanic Asian  \\\n",
       "146  1980   F  high school  85.5   89.2   78.3     58.9    NA   \n",
       "147  1990   F  high school  87.0   91.7   82.0     59.9    NA   \n",
       "148  1995   F  high school  87.4   93.0   85.3     58.7    NA   \n",
       "149  2000   F  high school  89.4   95.2   86.2     66.4    NA   \n",
       "150  2005   F  high school  87.4   93.8   87.3     63.4  94.4   \n",
       "..    ...  ..          ...   ...    ...    ...      ...   ...   \n",
       "209  2014   F     master's   9.3   11.1    5.0      3.6  20.8   \n",
       "210  2015   F     master's  10.4   12.0    7.2      4.1  23.2   \n",
       "211  2016   F     master's  11.2   12.3    6.3      6.3  28.8   \n",
       "212  2017   F     master's  10.5   11.8    6.8      5.0  25.8   \n",
       "213  2018   F     master's  10.7   12.6    6.2      3.8  29.9   \n",
       "\n",
       "    Pacific Islander American Indian/Alaska Native Two or more races  \n",
       "146               NA                            NA                NA  \n",
       "147               NA                            NA                NA  \n",
       "148               NA                          79.6                NA  \n",
       "149               NA                          86.3                NA  \n",
       "150               NA                          87.1              94.2  \n",
       "..               ...                           ...               ...  \n",
       "209               NA                            NA               7.5  \n",
       "210               NA                            NA              10.2  \n",
       "211               NA                            NA               8.2  \n",
       "212               NA                            NA               5.4  \n",
       "213               NA                            NA                NA  \n",
       "\n",
       "[68 rows x 11 columns]>"
      ]
     },
     "execution_count": 44,
     "metadata": {},
     "output_type": "execute_result"
    }
   ],
   "source": [
    "df4 = df3[df3['Year'] >= start]\n",
    "df5 = df4[df4['Year'] < end]\n",
    "df5.info"
   ]
  },
  {
   "cell_type": "code",
   "execution_count": 46,
   "id": "7b441c39",
   "metadata": {},
   "outputs": [
    {
     "name": "stdout",
     "output_type": "stream",
     "text": [
      "please enter a specific year:2000\n"
     ]
    }
   ],
   "source": [
    "year = int(input('please enter a specific year:'))\n",
    "df6 = df2[df2['Year'] == year]"
   ]
  },
  {
   "cell_type": "code",
   "execution_count": 57,
   "id": "eec27bb1",
   "metadata": {},
   "outputs": [
    {
     "data": {
      "text/html": [
       "<div>\n",
       "<style scoped>\n",
       "    .dataframe tbody tr th:only-of-type {\n",
       "        vertical-align: middle;\n",
       "    }\n",
       "\n",
       "    .dataframe tbody tr th {\n",
       "        vertical-align: top;\n",
       "    }\n",
       "\n",
       "    .dataframe thead th {\n",
       "        text-align: right;\n",
       "    }\n",
       "</style>\n",
       "<table border=\"1\" class=\"dataframe\">\n",
       "  <thead>\n",
       "    <tr style=\"text-align: right;\">\n",
       "      <th></th>\n",
       "      <th>Year</th>\n",
       "      <th>Sex</th>\n",
       "      <th>Min degree</th>\n",
       "      <th>Total</th>\n",
       "      <th>White</th>\n",
       "      <th>Black</th>\n",
       "      <th>Hispanic</th>\n",
       "      <th>Asian</th>\n",
       "      <th>Pacific Islander</th>\n",
       "      <th>American Indian/Alaska Native</th>\n",
       "      <th>Two or more races</th>\n",
       "    </tr>\n",
       "  </thead>\n",
       "  <tbody>\n",
       "    <tr>\n",
       "      <th>47</th>\n",
       "      <td>2000</td>\n",
       "      <td>A</td>\n",
       "      <td>bachelor's</td>\n",
       "      <td>29.1</td>\n",
       "      <td>34.0</td>\n",
       "      <td>17.8</td>\n",
       "      <td>9.7</td>\n",
       "      <td>NA</td>\n",
       "      <td>NA</td>\n",
       "      <td>15.9</td>\n",
       "      <td>NA</td>\n",
       "    </tr>\n",
       "    <tr>\n",
       "      <th>115</th>\n",
       "      <td>2000</td>\n",
       "      <td>M</td>\n",
       "      <td>bachelor's</td>\n",
       "      <td>27.9</td>\n",
       "      <td>32.3</td>\n",
       "      <td>18.4</td>\n",
       "      <td>8.3</td>\n",
       "      <td>NA</td>\n",
       "      <td>NA</td>\n",
       "      <td>NA</td>\n",
       "      <td>NA</td>\n",
       "    </tr>\n",
       "    <tr>\n",
       "      <th>183</th>\n",
       "      <td>2000</td>\n",
       "      <td>F</td>\n",
       "      <td>bachelor's</td>\n",
       "      <td>30.1</td>\n",
       "      <td>35.8</td>\n",
       "      <td>17.4</td>\n",
       "      <td>11.0</td>\n",
       "      <td>NA</td>\n",
       "      <td>NA</td>\n",
       "      <td>19.1</td>\n",
       "      <td>NA</td>\n",
       "    </tr>\n",
       "  </tbody>\n",
       "</table>\n",
       "</div>"
      ],
      "text/plain": [
       "     Year Sex  Min degree Total  White  Black Hispanic Asian Pacific Islander  \\\n",
       "47   2000   A  bachelor's  29.1   34.0   17.8      9.7    NA               NA   \n",
       "115  2000   M  bachelor's  27.9   32.3   18.4      8.3    NA               NA   \n",
       "183  2000   F  bachelor's  30.1   35.8   17.4     11.0    NA               NA   \n",
       "\n",
       "    American Indian/Alaska Native Two or more races  \n",
       "47                           15.9                NA  \n",
       "115                            NA                NA  \n",
       "183                          19.1                NA  "
      ]
     },
     "execution_count": 57,
     "metadata": {},
     "output_type": "execute_result"
    }
   ],
   "source": [
    "df7 = df6[df6['Min degree'] == \"bachelor's\"]\n",
    "df7.head(10)"
   ]
  },
  {
   "cell_type": "code",
   "execution_count": 75,
   "id": "4965e0de",
   "metadata": {
    "scrolled": false
   },
   "outputs": [
    {
     "name": "stdout",
     "output_type": "stream",
     "text": [
      "(33.33333333333333, 33.33333333333333)\n"
     ]
    }
   ],
   "source": [
    "men = df7[df7['Sex'] == 'M'].shape[0]\n",
    "women = df7[df7['Sex'] == 'F'].shape[0]\n",
    "total = df7.shape[0]\n",
    "men = men / total * 100\n",
    "women = women / total * 100\n",
    "re = (men, women)\n",
    "print(re)"
   ]
  },
  {
   "cell_type": "code",
   "execution_count": 88,
   "id": "4e83477a",
   "metadata": {},
   "outputs": [
    {
     "name": "stdout",
     "output_type": "stream",
     "text": [
      "('highschool', 25.0) ('bachelor', 25.0)\n"
     ]
    }
   ],
   "source": [
    "start = 2000\n",
    "end = 2010\n",
    "df_sel = df2[df2['Year'] >= 2000]\n",
    "df_sel = df_sel[df_sel['Year'] <= 2010]\n",
    "\n",
    "high = df_sel[df_sel['Min degree'] == 'high school'].shape[0]\n",
    "master = df_sel[df_sel['Min degree'] == \"master's\"].shape[0]\n",
    "associate = df_sel[df_sel['Min degree'] == \"associate's\"].shape[0]\n",
    "bachelor = df_sel[df_sel['Min degree'] == \"bachelor's\"].shape[0]\n",
    "degree = [high, master, associate, bachelor]\n",
    "degree.sort\n",
    "N1 = degree[-1]\n",
    "N2 = degree[-2]\n",
    "n1_mean = N1 / sum(degree) * 100\n",
    "n2_mean = N2 / sum(degree) * 100\n",
    "re1 = ('highschool', n1_mean)\n",
    "re2 = ('bachelor', n2_mean)\n",
    "print(re1, re2)"
   ]
  },
  {
   "cell_type": "code",
   "execution_count": null,
   "id": "08044d5b",
   "metadata": {},
   "outputs": [],
   "source": []
  }
 ],
 "metadata": {
  "kernelspec": {
   "display_name": "Python 3",
   "language": "python",
   "name": "python3"
  },
  "language_info": {
   "codemirror_mode": {
    "name": "ipython",
    "version": 3
   },
   "file_extension": ".py",
   "mimetype": "text/x-python",
   "name": "python",
   "nbconvert_exporter": "python",
   "pygments_lexer": "ipython3",
   "version": "3.8.8"
  }
 },
 "nbformat": 4,
 "nbformat_minor": 5
}
