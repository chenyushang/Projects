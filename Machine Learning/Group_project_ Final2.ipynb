{
 "cells": [
  {
   "cell_type": "markdown",
   "id": "ac1d854e",
   "metadata": {},
   "source": [
    "# Machine Learning Final Project - Heart Disease\n",
    "## Group Member: Elva Ge, Grace Tang, Yushang Chen, Jiahao Wang, Enze Zhao\n"
   ]
  },
  {
   "cell_type": "markdown",
   "id": "a430f508",
   "metadata": {},
   "source": [
    "### Objective: Our goal is to dive deep into the dataset utilizing machine learning models that we have learned in class and compare different models to find one that best fit the dataset. \n",
    "### Dataset Source: Kaggle (Personal key indicators of heart disease)\n",
    "* This is the link to the dataset: https://www.kaggle.com/datasets/kamilpytlak/personal-key-indicators-of-heart-disease"
   ]
  },
  {
   "cell_type": "code",
   "execution_count": 19,
   "id": "02db1e26",
   "metadata": {},
   "outputs": [],
   "source": [
    "# Load tools\n",
    "import pandas as pd\n",
    "import matplotlib.pyplot as plt\n",
    "import seaborn as sns\n",
    "import numpy as np\n",
    "from scipy.stats import norm\n",
    "from sklearn.preprocessing import StandardScaler\n",
    "from sklearn.preprocessing import MinMaxScaler\n",
    "from sklearn.preprocessing import OneHotEncoder\n",
    "from sklearn.preprocessing import OrdinalEncoder\n",
    "from scipy import stats\n",
    "import warnings\n",
    "warnings.filterwarnings('ignore')\n",
    "import numpy as np\n",
    "import matplotlib\n",
    "# Make plots appear in notebook\n",
    "%matplotlib inline\n",
    "\n",
    "from sklearn.model_selection import train_test_split\n",
    "from sklearn.model_selection import GridSearchCV\n",
    "from sklearn.linear_model import LinearRegression\n",
    "from sklearn.linear_model import Ridge\n",
    "from sklearn.linear_model import Lasso\n",
    "import matplotlib as mpl\n",
    "\n",
    "from sklearn.model_selection import cross_val_score\n",
    "from sklearn.model_selection import cross_validate\n",
    "from sklearn.model_selection import ShuffleSplit\n",
    "from sklearn.pipeline import make_pipeline\n",
    "\n",
    "np.random.seed(42)"
   ]
  },
  {
   "cell_type": "markdown",
   "id": "5a7e29af",
   "metadata": {},
   "source": [
    "## Heart Disease Data Info\n",
    "* HeartDisease: Respondents that have ever reported having coronary heart disease (CHD) or myocardial infarction (MI)\n",
    "* BMI: Body Mass Index (BMI)\n",
    "* Smoking: Have you smoked at least 100 cigarettes in your entire life? [Note: 5 packs = 100 cigarettes]\n",
    "* AlcoholDrinking： Heavy drinkers (adult men having more than 14 drinks per week and adult women having more than 7 drinks per week\n",
    "* Stroke：(Ever told) (you had) a stroke?\n",
    "* PhysicalHealth：Now thinking about your physical health, which includes physical illness and injury, for how many days during the past 30 days was your physical health not good? (0-30 days)\n",
    "* MentalHealth：Thinking about your mental health, for how many days during the past 30 days was your mental health not good? (0-30 days)\n",
    "* DiffWalking：Do you have serious difficulty walking or climbing stairs?\n",
    "* Sex：Are you male or female?\n",
    "* AgeCategory：Fourteen-level age category\n",
    "* Race: Imputed race/ethnicity value\n",
    "* Diabetic: (Ever told) (you had) diabetes?\n",
    "* PhysicalActivity: Adults who reported doing physical activity or exercise during the past 30 days other than their regular job\n",
    "* GenHealth: Would you say that in general your health is...\n",
    "* SleepTime: On average, how many hours of sleep do you get in a 24-hour period?\n",
    "* Asthma: (Ever told) (you had) asthma?\n",
    "* KidneyDisease: Not including kidney stones, bladder infection or incontinence, were you ever told you had kidney disease?\n",
    "* SkinCancer: (Ever told) (you had) skin cancer?"
   ]
  },
  {
   "cell_type": "markdown",
   "id": "acf72946",
   "metadata": {},
   "source": [
    "## Data Preprocessing"
   ]
  },
  {
   "cell_type": "markdown",
   "id": "65a2c5b3",
   "metadata": {},
   "source": [
    "### Loading Dataset"
   ]
  },
  {
   "cell_type": "code",
   "execution_count": 3,
   "id": "bd72c3d6",
   "metadata": {
    "scrolled": true
   },
   "outputs": [
    {
     "name": "stdout",
     "output_type": "stream",
     "text": [
      "Index(['HeartDisease', 'BMI', 'Smoking', 'AlcoholDrinking', 'Stroke',\n",
      "       'PhysicalHealth', 'MentalHealth', 'DiffWalking', 'Sex', 'AgeCategory',\n",
      "       'Race', 'Diabetic', 'PhysicalActivity', 'GenHealth', 'SleepTime',\n",
      "       'Asthma', 'KidneyDisease', 'SkinCancer'],\n",
      "      dtype='object')\n"
     ]
    }
   ],
   "source": [
    "# Read in data from csv file with Pandas tool\n",
    "df = pd.read_csv('heart_2020_cleaned.csv')\n",
    "# Print all predictors\n",
    "print(df.columns)"
   ]
  },
  {
   "cell_type": "code",
   "execution_count": 4,
   "id": "06ef0596",
   "metadata": {},
   "outputs": [
    {
     "data": {
      "text/plain": [
       "<bound method NDFrame.head of        HeartDisease    BMI Smoking AlcoholDrinking Stroke  PhysicalHealth  \\\n",
       "0                No  16.60     Yes              No     No             3.0   \n",
       "1                No  20.34      No              No    Yes             0.0   \n",
       "2                No  26.58     Yes              No     No            20.0   \n",
       "3                No  24.21      No              No     No             0.0   \n",
       "4                No  23.71      No              No     No            28.0   \n",
       "...             ...    ...     ...             ...    ...             ...   \n",
       "319790          Yes  27.41     Yes              No     No             7.0   \n",
       "319791           No  29.84     Yes              No     No             0.0   \n",
       "319792           No  24.24      No              No     No             0.0   \n",
       "319793           No  32.81      No              No     No             0.0   \n",
       "319794           No  46.56      No              No     No             0.0   \n",
       "\n",
       "        MentalHealth DiffWalking     Sex  AgeCategory      Race Diabetic  \\\n",
       "0               30.0          No  Female        55-59     White      Yes   \n",
       "1                0.0          No  Female  80 or older     White       No   \n",
       "2               30.0          No    Male        65-69     White      Yes   \n",
       "3                0.0          No  Female        75-79     White       No   \n",
       "4                0.0         Yes  Female        40-44     White       No   \n",
       "...              ...         ...     ...          ...       ...      ...   \n",
       "319790           0.0         Yes    Male        60-64  Hispanic      Yes   \n",
       "319791           0.0          No    Male        35-39  Hispanic       No   \n",
       "319792           0.0          No  Female        45-49  Hispanic       No   \n",
       "319793           0.0          No  Female        25-29  Hispanic       No   \n",
       "319794           0.0          No  Female  80 or older  Hispanic       No   \n",
       "\n",
       "       PhysicalActivity  GenHealth  SleepTime Asthma KidneyDisease SkinCancer  \n",
       "0                   Yes  Very good        5.0    Yes            No        Yes  \n",
       "1                   Yes  Very good        7.0     No            No         No  \n",
       "2                   Yes       Fair        8.0    Yes            No         No  \n",
       "3                    No       Good        6.0     No            No        Yes  \n",
       "4                   Yes  Very good        8.0     No            No         No  \n",
       "...                 ...        ...        ...    ...           ...        ...  \n",
       "319790               No       Fair        6.0    Yes            No         No  \n",
       "319791              Yes  Very good        5.0    Yes            No         No  \n",
       "319792              Yes       Good        6.0     No            No         No  \n",
       "319793               No       Good       12.0     No            No         No  \n",
       "319794              Yes       Good        8.0     No            No         No  \n",
       "\n",
       "[319795 rows x 18 columns]>"
      ]
     },
     "execution_count": 4,
     "metadata": {},
     "output_type": "execute_result"
    }
   ],
   "source": [
    "df.head"
   ]
  },
  {
   "cell_type": "markdown",
   "id": "7d0f69b2",
   "metadata": {},
   "source": [
    "### Checking Null Value"
   ]
  },
  {
   "cell_type": "code",
   "execution_count": 5,
   "id": "4c9ae676",
   "metadata": {
    "scrolled": false
   },
   "outputs": [
    {
     "name": "stdout",
     "output_type": "stream",
     "text": [
      "Empty DataFrame\n",
      "Columns: [column_name, number_values, percent_missing]\n",
      "Index: []\n"
     ]
    }
   ],
   "source": [
    "# Check NA's in each column\n",
    "num_values     = len(df)-df.isnull().sum()\n",
    "percent_missing = df.isnull().sum() * 100 / len(df)\n",
    "missing_value_df = pd.DataFrame({'column_name': df.columns,'number_values':num_values,\n",
    "                                 'percent_missing': percent_missing})\n",
    "print(missing_value_df[missing_value_df['percent_missing']>0])"
   ]
  },
  {
   "cell_type": "code",
   "execution_count": 6,
   "id": "f45bf938",
   "metadata": {},
   "outputs": [
    {
     "data": {
      "text/plain": [
       "HeartDisease        0\n",
       "BMI                 0\n",
       "Smoking             0\n",
       "AlcoholDrinking     0\n",
       "Stroke              0\n",
       "PhysicalHealth      0\n",
       "MentalHealth        0\n",
       "DiffWalking         0\n",
       "Sex                 0\n",
       "AgeCategory         0\n",
       "Race                0\n",
       "Diabetic            0\n",
       "PhysicalActivity    0\n",
       "GenHealth           0\n",
       "SleepTime           0\n",
       "Asthma              0\n",
       "KidneyDisease       0\n",
       "SkinCancer          0\n",
       "dtype: int64"
      ]
     },
     "execution_count": 6,
     "metadata": {},
     "output_type": "execute_result"
    }
   ],
   "source": [
    "df.isnull().sum()"
   ]
  },
  {
   "cell_type": "markdown",
   "id": "81dc09df",
   "metadata": {},
   "source": [
    "### Dealing with qualitative predictors"
   ]
  },
  {
   "cell_type": "code",
   "execution_count": 7,
   "id": "056def3a",
   "metadata": {},
   "outputs": [],
   "source": [
    "import pandas as pd\n",
    "import numpy as np\n",
    "from matplotlib import pyplot as plt\n",
    "import seaborn as sns\n",
    "import category_encoders as ce\n",
    "from matplotlib import colors as c\n",
    "from matplotlib import gridspec as grid"
   ]
  },
  {
   "cell_type": "code",
   "execution_count": 8,
   "id": "7415dfd5",
   "metadata": {
    "scrolled": true
   },
   "outputs": [
    {
     "data": {
      "text/html": [
       "<div>\n",
       "<style scoped>\n",
       "    .dataframe tbody tr th:only-of-type {\n",
       "        vertical-align: middle;\n",
       "    }\n",
       "\n",
       "    .dataframe tbody tr th {\n",
       "        vertical-align: top;\n",
       "    }\n",
       "\n",
       "    .dataframe thead th {\n",
       "        text-align: right;\n",
       "    }\n",
       "</style>\n",
       "<table border=\"1\" class=\"dataframe\">\n",
       "  <thead>\n",
       "    <tr style=\"text-align: right;\">\n",
       "      <th></th>\n",
       "      <th>HeartDisease</th>\n",
       "      <th>BMI</th>\n",
       "      <th>Smoking</th>\n",
       "      <th>AlcoholDrinking</th>\n",
       "      <th>Stroke</th>\n",
       "      <th>PhysicalHealth</th>\n",
       "      <th>MentalHealth</th>\n",
       "      <th>DiffWalking</th>\n",
       "      <th>Sex</th>\n",
       "      <th>AgeCategory</th>\n",
       "      <th>...</th>\n",
       "      <th>Diabetic_Yes</th>\n",
       "      <th>Diabetic_No</th>\n",
       "      <th>Diabetic_No, borderline diabetes</th>\n",
       "      <th>Diabetic_Yes (during pregnancy)</th>\n",
       "      <th>PhysicalActivity</th>\n",
       "      <th>GenHealth</th>\n",
       "      <th>SleepTime</th>\n",
       "      <th>Asthma</th>\n",
       "      <th>KidneyDisease</th>\n",
       "      <th>SkinCancer</th>\n",
       "    </tr>\n",
       "  </thead>\n",
       "  <tbody>\n",
       "    <tr>\n",
       "      <th>0</th>\n",
       "      <td>0</td>\n",
       "      <td>16.60</td>\n",
       "      <td>0</td>\n",
       "      <td>0</td>\n",
       "      <td>0</td>\n",
       "      <td>3.0</td>\n",
       "      <td>30.0</td>\n",
       "      <td>0</td>\n",
       "      <td>0</td>\n",
       "      <td>7</td>\n",
       "      <td>...</td>\n",
       "      <td>1.0</td>\n",
       "      <td>0.0</td>\n",
       "      <td>0.0</td>\n",
       "      <td>0.0</td>\n",
       "      <td>0</td>\n",
       "      <td>3</td>\n",
       "      <td>5.0</td>\n",
       "      <td>0</td>\n",
       "      <td>0</td>\n",
       "      <td>0</td>\n",
       "    </tr>\n",
       "    <tr>\n",
       "      <th>1</th>\n",
       "      <td>0</td>\n",
       "      <td>20.34</td>\n",
       "      <td>1</td>\n",
       "      <td>0</td>\n",
       "      <td>1</td>\n",
       "      <td>0.0</td>\n",
       "      <td>0.0</td>\n",
       "      <td>0</td>\n",
       "      <td>0</td>\n",
       "      <td>12</td>\n",
       "      <td>...</td>\n",
       "      <td>0.0</td>\n",
       "      <td>1.0</td>\n",
       "      <td>0.0</td>\n",
       "      <td>0.0</td>\n",
       "      <td>0</td>\n",
       "      <td>3</td>\n",
       "      <td>7.0</td>\n",
       "      <td>1</td>\n",
       "      <td>0</td>\n",
       "      <td>1</td>\n",
       "    </tr>\n",
       "    <tr>\n",
       "      <th>2</th>\n",
       "      <td>0</td>\n",
       "      <td>26.58</td>\n",
       "      <td>0</td>\n",
       "      <td>0</td>\n",
       "      <td>0</td>\n",
       "      <td>20.0</td>\n",
       "      <td>30.0</td>\n",
       "      <td>0</td>\n",
       "      <td>1</td>\n",
       "      <td>9</td>\n",
       "      <td>...</td>\n",
       "      <td>1.0</td>\n",
       "      <td>0.0</td>\n",
       "      <td>0.0</td>\n",
       "      <td>0.0</td>\n",
       "      <td>0</td>\n",
       "      <td>1</td>\n",
       "      <td>8.0</td>\n",
       "      <td>0</td>\n",
       "      <td>0</td>\n",
       "      <td>1</td>\n",
       "    </tr>\n",
       "    <tr>\n",
       "      <th>3</th>\n",
       "      <td>0</td>\n",
       "      <td>24.21</td>\n",
       "      <td>1</td>\n",
       "      <td>0</td>\n",
       "      <td>0</td>\n",
       "      <td>0.0</td>\n",
       "      <td>0.0</td>\n",
       "      <td>0</td>\n",
       "      <td>0</td>\n",
       "      <td>11</td>\n",
       "      <td>...</td>\n",
       "      <td>0.0</td>\n",
       "      <td>1.0</td>\n",
       "      <td>0.0</td>\n",
       "      <td>0.0</td>\n",
       "      <td>1</td>\n",
       "      <td>2</td>\n",
       "      <td>6.0</td>\n",
       "      <td>1</td>\n",
       "      <td>0</td>\n",
       "      <td>0</td>\n",
       "    </tr>\n",
       "    <tr>\n",
       "      <th>4</th>\n",
       "      <td>0</td>\n",
       "      <td>23.71</td>\n",
       "      <td>1</td>\n",
       "      <td>0</td>\n",
       "      <td>0</td>\n",
       "      <td>28.0</td>\n",
       "      <td>0.0</td>\n",
       "      <td>1</td>\n",
       "      <td>0</td>\n",
       "      <td>4</td>\n",
       "      <td>...</td>\n",
       "      <td>0.0</td>\n",
       "      <td>1.0</td>\n",
       "      <td>0.0</td>\n",
       "      <td>0.0</td>\n",
       "      <td>0</td>\n",
       "      <td>3</td>\n",
       "      <td>8.0</td>\n",
       "      <td>1</td>\n",
       "      <td>0</td>\n",
       "      <td>1</td>\n",
       "    </tr>\n",
       "  </tbody>\n",
       "</table>\n",
       "<p>5 rows × 26 columns</p>\n",
       "</div>"
      ],
      "text/plain": [
       "   HeartDisease    BMI  Smoking  AlcoholDrinking  Stroke  PhysicalHealth  \\\n",
       "0             0  16.60        0                0       0             3.0   \n",
       "1             0  20.34        1                0       1             0.0   \n",
       "2             0  26.58        0                0       0            20.0   \n",
       "3             0  24.21        1                0       0             0.0   \n",
       "4             0  23.71        1                0       0            28.0   \n",
       "\n",
       "   MentalHealth  DiffWalking  Sex  AgeCategory  ...  Diabetic_Yes  \\\n",
       "0          30.0            0    0            7  ...           1.0   \n",
       "1           0.0            0    0           12  ...           0.0   \n",
       "2          30.0            0    1            9  ...           1.0   \n",
       "3           0.0            0    0           11  ...           0.0   \n",
       "4           0.0            1    0            4  ...           0.0   \n",
       "\n",
       "   Diabetic_No  Diabetic_No, borderline diabetes  \\\n",
       "0          0.0                               0.0   \n",
       "1          1.0                               0.0   \n",
       "2          0.0                               0.0   \n",
       "3          1.0                               0.0   \n",
       "4          1.0                               0.0   \n",
       "\n",
       "   Diabetic_Yes (during pregnancy)  PhysicalActivity  GenHealth  SleepTime  \\\n",
       "0                              0.0                 0          3        5.0   \n",
       "1                              0.0                 0          3        7.0   \n",
       "2                              0.0                 0          1        8.0   \n",
       "3                              0.0                 1          2        6.0   \n",
       "4                              0.0                 0          3        8.0   \n",
       "\n",
       "   Asthma  KidneyDisease  SkinCancer  \n",
       "0       0              0           0  \n",
       "1       1              0           1  \n",
       "2       0              0           1  \n",
       "3       1              0           0  \n",
       "4       1              0           1  \n",
       "\n",
       "[5 rows x 26 columns]"
      ]
     },
     "execution_count": 8,
     "metadata": {},
     "output_type": "execute_result"
    }
   ],
   "source": [
    "# Enconding categorical variables\n",
    "t_df = df\n",
    "\n",
    "#Binary encoding variables: HeartDisease, Smoking, AlcoholDrinking, Stroke, DiffWalking, Sex, Diabetic, Physical Activity, Asthma, KidneyDisease, SkinCancer\n",
    "binary_cols = ['HeartDisease','Sex','Smoking','AlcoholDrinking','Stroke','Asthma', 'DiffWalking','PhysicalActivity','KidneyDisease','SkinCancer']\n",
    "\n",
    "for col in binary_cols:\n",
    "    t_df[col] = t_df[col].replace(list(t_df[col].unique()),[0,1])\n",
    "\n",
    "\n",
    "#One hot encoding for variables: Race\n",
    "race_encoder=ce.OneHotEncoder(cols='Race',handle_unknown='return_nan',return_df=True,use_cat_names=True)\n",
    "\n",
    "diabetic_encoder = ce.OneHotEncoder(cols='Diabetic', handle_unknown='return_nan', return_df=True, use_cat_names=True)\n",
    "\n",
    "#Ordinal encoding for variables: AgeCategory, GenHealth\n",
    "\n",
    "age_encoder= ce.OrdinalEncoder(cols=['AgeCategory'],return_df=True,\n",
    "                           mapping=[{'col':'AgeCategory',\n",
    "'mapping':{'18-24':0, '25-29':1,'30-34':2,'35-39':3,'40-44':4,'45-49':5,'50-54':6,'55-59':7,'60-64':8,'65-69':9,'70-74':10,'75-79':11,'80 or older':12}}])\n",
    "\n",
    "\n",
    "health_encoder = ce.OrdinalEncoder(cols=['GenHealth'], return_df=True,\n",
    "                                    mapping=[{'col':'GenHealth',\n",
    "                                            'mapping':{'Poor':0,'Fair':1,'Good':2,'Very good':3,'Excellent':4}}])\n",
    "\n",
    "\n",
    "t_df = age_encoder.fit_transform(t_df)\n",
    "t_df = health_encoder.fit_transform(t_df)\n",
    "t_df = race_encoder.fit_transform(t_df)\n",
    "t_df = diabetic_encoder.fit_transform(t_df)\n",
    "\n",
    "t_df.head(5)"
   ]
  },
  {
   "cell_type": "code",
   "execution_count": 9,
   "id": "572026ef",
   "metadata": {},
   "outputs": [],
   "source": [
    "X = t_df.drop('HeartDisease',axis=1)\n",
    "y = t_df['HeartDisease']"
   ]
  },
  {
   "cell_type": "code",
   "execution_count": 10,
   "id": "7fded5b8",
   "metadata": {},
   "outputs": [
    {
     "name": "stdout",
     "output_type": "stream",
     "text": [
      "0.08559545959130067\n"
     ]
    }
   ],
   "source": [
    "print(np.mean(y))"
   ]
  },
  {
   "cell_type": "markdown",
   "id": "442a5f23",
   "metadata": {},
   "source": [
    "* Given the result of mean y, we can see that this is a very unbalanced dataset. Random guessing (0) would get you about 92 percent accuracy."
   ]
  },
  {
   "cell_type": "markdown",
   "id": "256dfef7",
   "metadata": {},
   "source": [
    "### Dealing with unbalanced dataset"
   ]
  },
  {
   "cell_type": "code",
   "execution_count": 11,
   "id": "33775ba8",
   "metadata": {},
   "outputs": [],
   "source": [
    "from imblearn.over_sampling import SMOTE\n",
    "# Resampling the minority class. The strategy can be changed as required.\n",
    "sm = SMOTE(sampling_strategy='minority', random_state=42)\n",
    "# Fit the model to generate the data.\n",
    "oversampled_X, oversampled_Y = sm.fit_resample(t_df.drop('HeartDisease', axis=1), t_df['HeartDisease'])\n",
    "oversampled = pd.concat([pd.DataFrame(oversampled_Y), pd.DataFrame(oversampled_X)], axis=1)"
   ]
  },
  {
   "cell_type": "code",
   "execution_count": 12,
   "id": "7e753056",
   "metadata": {},
   "outputs": [
    {
     "data": {
      "text/plain": [
       "0    292422\n",
       "1    292422\n",
       "Name: HeartDisease, dtype: int64"
      ]
     },
     "execution_count": 12,
     "metadata": {},
     "output_type": "execute_result"
    }
   ],
   "source": [
    "oversampled['HeartDisease'].value_counts()"
   ]
  },
  {
   "cell_type": "code",
   "execution_count": 13,
   "id": "22cb99dd",
   "metadata": {},
   "outputs": [
    {
     "name": "stdout",
     "output_type": "stream",
     "text": [
      "              BMI  Smoking  AlcoholDrinking  Stroke  PhysicalHealth  \\\n",
      "0       16.600000        0                0       0        3.000000   \n",
      "1       20.340000        1                0       1        0.000000   \n",
      "2       26.580000        0                0       0       20.000000   \n",
      "3       24.210000        1                0       0        0.000000   \n",
      "4       23.710000        1                0       0       28.000000   \n",
      "...           ...      ...              ...     ...             ...   \n",
      "584839  23.489440        1                0       0        0.000000   \n",
      "584840  28.995898        0                0       0        0.000000   \n",
      "584841  36.570562        0                0       0       20.000000   \n",
      "584842  22.370468        0                0       0        0.000000   \n",
      "584843  27.153178        0                0       0        0.141713   \n",
      "\n",
      "        MentalHealth  DiffWalking  Sex  AgeCategory  Race_White  ...  \\\n",
      "0           30.00000            0    0            7         1.0  ...   \n",
      "1            0.00000            0    0           12         1.0  ...   \n",
      "2           30.00000            0    1            9         1.0  ...   \n",
      "3            0.00000            0    0           11         1.0  ...   \n",
      "4            0.00000            1    0            4         1.0  ...   \n",
      "...              ...          ...  ...          ...         ...  ...   \n",
      "584839       0.00000            0    1           11         0.0  ...   \n",
      "584840       0.00000            0    1           11         1.0  ...   \n",
      "584841       0.00000            1    0            9         1.0  ...   \n",
      "584842      10.28642            0    0            5         0.0  ...   \n",
      "584843       0.00000            0    1            5         0.0  ...   \n",
      "\n",
      "        Diabetic_Yes  Diabetic_No  Diabetic_No, borderline diabetes  \\\n",
      "0                1.0          0.0                               0.0   \n",
      "1                0.0          1.0                               0.0   \n",
      "2                1.0          0.0                               0.0   \n",
      "3                0.0          1.0                               0.0   \n",
      "4                0.0          1.0                               0.0   \n",
      "...              ...          ...                               ...   \n",
      "584839           1.0          0.0                               0.0   \n",
      "584840           0.0          1.0                               0.0   \n",
      "584841           0.0          1.0                               0.0   \n",
      "584842           0.0          1.0                               0.0   \n",
      "584843           0.0          1.0                               0.0   \n",
      "\n",
      "        Diabetic_Yes (during pregnancy)  PhysicalActivity  GenHealth  \\\n",
      "0                                   0.0                 0          3   \n",
      "1                                   0.0                 0          3   \n",
      "2                                   0.0                 0          1   \n",
      "3                                   0.0                 1          2   \n",
      "4                                   0.0                 0          3   \n",
      "...                                 ...               ...        ...   \n",
      "584839                              0.0                 0          2   \n",
      "584840                              0.0                 0          3   \n",
      "584841                              0.0                 0          1   \n",
      "584842                              0.0                 0          2   \n",
      "584843                              0.0                 0          2   \n",
      "\n",
      "        SleepTime  Asthma  KidneyDisease  SkinCancer  \n",
      "0        5.000000       0              0           0  \n",
      "1        7.000000       1              0           1  \n",
      "2        8.000000       0              0           1  \n",
      "3        6.000000       1              0           0  \n",
      "4        8.000000       1              0           1  \n",
      "...           ...     ...            ...         ...  \n",
      "584839   7.999371       1              0           1  \n",
      "584840   7.000000       1              0           1  \n",
      "584841   6.988203       0              0           1  \n",
      "584842   4.572841       1              0           1  \n",
      "584843   6.000000       1              0           1  \n",
      "\n",
      "[584844 rows x 25 columns]\n"
     ]
    }
   ],
   "source": [
    "print(oversampled_X)"
   ]
  },
  {
   "cell_type": "code",
   "execution_count": 14,
   "id": "76c51a2a",
   "metadata": {},
   "outputs": [
    {
     "name": "stdout",
     "output_type": "stream",
     "text": [
      "0         0\n",
      "1         0\n",
      "2         0\n",
      "3         0\n",
      "4         0\n",
      "         ..\n",
      "584839    1\n",
      "584840    1\n",
      "584841    1\n",
      "584842    1\n",
      "584843    1\n",
      "Name: HeartDisease, Length: 584844, dtype: int64\n"
     ]
    }
   ],
   "source": [
    "print(oversampled_Y)"
   ]
  },
  {
   "cell_type": "code",
   "execution_count": 15,
   "id": "e9bfa83f",
   "metadata": {},
   "outputs": [
    {
     "data": {
      "text/plain": [
       "(584844, 26)"
      ]
     },
     "execution_count": 15,
     "metadata": {},
     "output_type": "execute_result"
    }
   ],
   "source": [
    "oversampled.shape"
   ]
  },
  {
   "cell_type": "markdown",
   "id": "2318c69b",
   "metadata": {},
   "source": [
    "## Comparing Different Models"
   ]
  },
  {
   "cell_type": "markdown",
   "id": "baad3a3f",
   "metadata": {},
   "source": [
    "## 1. Linear"
   ]
  },
  {
   "cell_type": "code",
   "execution_count": 17,
   "id": "e0fa6470",
   "metadata": {},
   "outputs": [
    {
     "name": "stdout",
     "output_type": "stream",
     "text": [
      "0.38014020914145463\n",
      "0.3803201663940235\n"
     ]
    }
   ],
   "source": [
    "lr = LinearRegression()\n",
    "nmc = 250\n",
    "testSize = 0.25\n",
    "shuffle = ShuffleSplit(n_splits=nmc, test_size=testSize)\n",
    "CVInfo = cross_validate(lr, oversampled_X, oversampled_Y, cv=shuffle,return_train_score=True)\n",
    "print(np.mean(CVInfo['train_score']))\n",
    "print(np.mean(CVInfo['test_score']))"
   ]
  },
  {
   "cell_type": "markdown",
   "id": "fc10862f",
   "metadata": {},
   "source": [
    "## 2. Logistic"
   ]
  },
  {
   "cell_type": "code",
   "execution_count": 17,
   "id": "adfa129b",
   "metadata": {},
   "outputs": [
    {
     "name": "stdout",
     "output_type": "stream",
     "text": [
      "Logistic mean score on trainning sample is:  0.7843890268174077\n",
      "Logistic mean score on testing sample is:  0.7843549390948698\n"
     ]
    }
   ],
   "source": [
    "from sklearn.pipeline import Pipeline\n",
    "from sklearn.preprocessing import StandardScaler\n",
    "from sklearn.linear_model import LogisticRegression\n",
    "\n",
    "fullModel = Pipeline([('scaler', StandardScaler()), ('Logistic', LogisticRegression(penalty=\"none\",solver=\"lbfgs\"))])\n",
    "fullModel.fit(oversampled_X, oversampled_Y)\n",
    "shuffle = ShuffleSplit(n_splits=250, test_size=0.25)\n",
    "CVInfo = cross_validate(fullModel, oversampled_X, oversampled_Y, cv=shuffle,return_train_score=True)\n",
    "print(\"Logistic mean score on trainning sample is: \",np.mean(CVInfo['train_score']))\n",
    "print(\"Logistic mean score on testing sample is: \",np.mean(CVInfo['test_score']))"
   ]
  },
  {
   "cell_type": "markdown",
   "id": "8453c823",
   "metadata": {},
   "source": [
    "## 3. KNN"
   ]
  },
  {
   "cell_type": "code",
   "execution_count": 18,
   "id": "3527f59a",
   "metadata": {},
   "outputs": [],
   "source": [
    "#Create a subset by selecting the first 2000 columns\n",
    "first_n_columns = t_df.iloc[:2000, :]\n",
    "sub_X, sub_Y = sm.fit_resample(first_n_columns.drop('HeartDisease', axis=1), first_n_columns['HeartDisease'])\n",
    "subset = pd.concat([pd.DataFrame(oversampled_Y), pd.DataFrame(oversampled_X)], axis=1)"
   ]
  },
  {
   "cell_type": "code",
   "execution_count": 19,
   "id": "72b8668e",
   "metadata": {},
   "outputs": [
    {
     "name": "stdout",
     "output_type": "stream",
     "text": [
      "best_neighbors= 2\n"
     ]
    },
    {
     "data": {
      "image/png": "[encoded data removed]",
      "text/plain": [
       "<Figure size 432x288 with 1 Axes>"
      ]
     },
     "metadata": {
      "needs_background": "light"
     },
     "output_type": "display_data"
    }
   ],
   "source": [
    "from sklearn.neighbors import KNeighborsClassifier\n",
    "training_accuracy = []\n",
    "test_accuracy = []\n",
    "# try n_neighbors from 1 to 20\n",
    "neighbors_settings = range(1, 21)\n",
    "shuffle = ShuffleSplit(n_splits=200, test_size=.25)\n",
    "\n",
    "for n_neighbors in neighbors_settings:\n",
    "    # build the model\n",
    "    knn = KNeighborsClassifier(n_neighbors=n_neighbors)\n",
    "    CVInfo = cross_validate(knn, sub_X, sub_Y, cv=shuffle,return_train_score=True)\n",
    "    # record train accuracy\n",
    "    training_accuracy.append(np.mean(CVInfo['train_score']))\n",
    "    # record test accuracy\n",
    "    test_accuracy.append(np.mean(CVInfo['test_score']))\n",
    "\n",
    "fig, ax = plt.subplots()\n",
    "ax.plot(neighbors_settings, training_accuracy, label=\"training accuracy\")\n",
    "ax.plot(neighbors_settings, test_accuracy, label=\"test accuracy\")\n",
    "ax.set_xlim(21, 0)\n",
    "ax.set_ylabel(\"Accuracy\")\n",
    "ax.set_xlabel(\"n_neighbors\")\n",
    "ax.grid()\n",
    "ax.legend()\n",
    "\n",
    "nbest = np.argmax(test_accuracy)\n",
    "best_neighbors = neighbors_settings[nbest]\n",
    "print(\"best_neighbors=\",best_neighbors)"
   ]
  },
  {
   "cell_type": "code",
   "execution_count": 20,
   "id": "114a6564",
   "metadata": {},
   "outputs": [
    {
     "name": "stdout",
     "output_type": "stream",
     "text": [
      "KNN mean score on trainning sample is 0.9931481481481481\n",
      "KNN mean score on testing sample is 0.9056414662084769\n"
     ]
    }
   ],
   "source": [
    "knn = KNeighborsClassifier(n_neighbors=2)\n",
    "shuffle = ShuffleSplit(n_splits=200, test_size=.25)\n",
    "CVInfo = cross_validate(knn, sub_X, sub_Y, cv=shuffle,return_train_score=True,n_jobs=-1)\n",
    "print(\"KNN mean score on trainning sample is\", np.mean(CVInfo['train_score']))\n",
    "print(\"KNN mean score on testing sample is\", np.mean(CVInfo['test_score']))"
   ]
  },
  {
   "cell_type": "markdown",
   "id": "07766c4d",
   "metadata": {},
   "source": [
    "## 4. LASSO"
   ]
  },
  {
   "cell_type": "code",
   "execution_count": 21,
   "id": "ccfb7542",
   "metadata": {},
   "outputs": [
    {
     "name": "stdout",
     "output_type": "stream",
     "text": [
      "Alpha= 0.0001\n",
      "0.3802241786755736\n",
      "0.38006711060091436\n",
      "Alpha= 0.001\n",
      "0.380116798218628\n",
      "0.38012185967996787\n",
      "Alpha= 0.03\n",
      "0.3502806750513856\n",
      "0.3500997129477509\n"
     ]
    }
   ],
   "source": [
    "nmc = 250\n",
    "alphas = np.array([0.0001,0.001,0.03])\n",
    "shuffle = ShuffleSplit(n_splits=nmc, test_size=.25)\n",
    "for a in alphas:\n",
    "    fullModel = make_pipeline(StandardScaler(), Lasso(alpha=a))\n",
    "    CVInfo = cross_validate(fullModel, oversampled_X, oversampled_Y, cv=shuffle,return_train_score=True,n_jobs=10)\n",
    "    print(\"Alpha=\",a)\n",
    "    print(np.mean(CVInfo['train_score']))\n",
    "    print(np.mean(CVInfo['test_score']))"
   ]
  },
  {
   "cell_type": "markdown",
   "id": "538bfa1b",
   "metadata": {},
   "source": [
    "## 5. Ridge"
   ]
  },
  {
   "cell_type": "code",
   "execution_count": 20,
   "id": "caf9f630",
   "metadata": {},
   "outputs": [
    {
     "name": "stdout",
     "output_type": "stream",
     "text": [
      "    rank_test_score  mean_test_score param_ridge__alpha\n",
      "0                11         0.380129             0.0001\n",
      "1                10         0.380129              0.001\n",
      "2                 9         0.380129               0.01\n",
      "3                 8         0.380129               0.05\n",
      "4                 7         0.380129                0.1\n",
      "5                 6         0.380129               0.25\n",
      "6                 5         0.380129                0.5\n",
      "7                 4         0.380129                  1\n",
      "8                 3         0.380129                  2\n",
      "9                 2         0.380129                5.0\n",
      "10                1         0.380129               10.0\n",
      "11               12         0.380126              100.0\n",
      "12               13         0.380112              250.0\n",
      "13               14         0.380063              500.0\n",
      "14               15         0.379880             1000.0\n",
      "best param: {'ridge__alpha': 10.0}\n",
      "best model: Pipeline(steps=[('minmaxscaler', MinMaxScaler()), ('ridge', Ridge(alpha=10.0))])\n",
      "best test score: 0.38012878116834614\n"
     ]
    }
   ],
   "source": [
    "fullModel = make_pipeline(MinMaxScaler(),Ridge())\n",
    "#fullModel.fit(Xs,y)\n",
    "param_grid={'ridge__alpha':[0.0001,0.001,0.01,0.05,0.1,0.25,0.5,1, 2,  5., 10., 100., 250., 500., 1000.]}\n",
    "shuffle = ShuffleSplit(n_splits=100, test_size=0.25)\n",
    "grid_search=GridSearchCV(fullModel,param_grid,cv=shuffle,\n",
    "                              return_train_score=True,n_jobs=-1)\n",
    "grid_search.fit(oversampled_X,oversampled_Y)\n",
    "results = pd.DataFrame(grid_search.cv_results_)\n",
    "print(results[['rank_test_score','mean_test_score','param_ridge__alpha']])\n",
    "\n",
    "print(\"best param:\",grid_search.best_params_)\n",
    "print(\"best model:\",grid_search.best_estimator_)\n",
    "print(\"best test score:\",grid_search.best_score_)\n",
    "\n",
    "# This is best model\n",
    "best_model = grid_search.best_estimator_"
   ]
  },
  {
   "cell_type": "markdown",
   "id": "55ec4a8d",
   "metadata": {},
   "source": [
    "## 6. Decision Tree Regressor"
   ]
  },
  {
   "cell_type": "code",
   "execution_count": 22,
   "id": "625250ba",
   "metadata": {},
   "outputs": [
    {
     "name": "stdout",
     "output_type": "stream",
     "text": [
      "0.5350528396881312\n"
     ]
    }
   ],
   "source": [
    "from sklearn.tree import DecisionTreeRegressor\n",
    "dtr = DecisionTreeRegressor()\n",
    "cvf = ShuffleSplit(n_splits=100, test_size=0.25)\n",
    "scores = cross_val_score(dtr, oversampled_X, oversampled_Y, cv=cvf)\n",
    "print(np.mean(scores))"
   ]
  },
  {
   "cell_type": "code",
   "execution_count": 23,
   "id": "d33976dc",
   "metadata": {},
   "outputs": [
    {
     "name": "stdout",
     "output_type": "stream",
     "text": [
      "   rank_test_score  mean_test_score  mean_train_score param_max_depth\n",
      "0                4         0.370118          0.370538               5\n",
      "1                3         0.465811          0.477740              10\n",
      "2                2         0.512376          0.597679              15\n",
      "3                1         0.523632          0.755486              20\n",
      "best param: {'max_depth': 20}\n",
      "best model: DecisionTreeRegressor(max_depth=20)\n",
      "best test score: 0.5236322407552703\n"
     ]
    }
   ],
   "source": [
    "X_trainValid, X_test, y_trainValid, y_test = train_test_split(oversampled_X,oversampled_Y,test_size=0.25,random_state=42)\n",
    "\n",
    "# Try decision Tree regressor\n",
    "from sklearn.tree import DecisionTreeRegressor\n",
    "from sklearn.model_selection import ShuffleSplit\n",
    "from sklearn.model_selection import GridSearchCV\n",
    "nmc = 100\n",
    "#  Note:  no need for scaling, back to simple parameters\n",
    "# set up dictionary for grid search\n",
    "param_grid={'max_depth':[5,10,15,20]}\n",
    "# set up cross-validation shuffles\n",
    "cvf = ShuffleSplit(test_size=0.25,n_splits=nmc)\n",
    "# set up search\n",
    "grid_search=GridSearchCV(DecisionTreeRegressor(),param_grid,cv=cvf,return_train_score=True,n_jobs=-1)\n",
    "# implement search\n",
    "grid_search.fit(X_trainValid,y_trainValid)\n",
    "# move results into DataFrame\n",
    "results = pd.DataFrame(grid_search.cv_results_)\n",
    "print(results[['rank_test_score','mean_test_score','mean_train_score','param_max_depth']])\n",
    "\n",
    "# Print best params and model\n",
    "print(\"best param:\",grid_search.best_params_)\n",
    "print(\"best model:\",grid_search.best_estimator_)\n",
    "print(\"best test score:\",grid_search.best_score_)"
   ]
  },
  {
   "cell_type": "code",
   "execution_count": 24,
   "id": "883b8dbf",
   "metadata": {},
   "outputs": [
    {
     "name": "stdout",
     "output_type": "stream",
     "text": [
      "Best Model Result:\n",
      "0.7558888954953342\n",
      "0.5233649050159385\n",
      "Final test sample:\n",
      "0.5412123911742339\n"
     ]
    }
   ],
   "source": [
    "best_model = grid_search.best_estimator_\n",
    "\n",
    "shuffle = ShuffleSplit(n_splits=nmc, test_size=.25)\n",
    "CVInfo = cross_validate(best_model, X_trainValid, y_trainValid, cv=shuffle,return_train_score=True,n_jobs=-1)\n",
    "\n",
    "print(\"Best Model Result:\")\n",
    "print(np.mean(CVInfo['train_score']))\n",
    "print(np.mean(CVInfo['test_score']))\n",
    "\n",
    "print(\"Final test sample:\")\n",
    "best_model.fit(X_trainValid,y_trainValid)\n",
    "print(best_model.score(X_test,y_test))"
   ]
  },
  {
   "cell_type": "markdown",
   "id": "2b5095f8",
   "metadata": {},
   "source": [
    "## 7. Random Forest"
   ]
  },
  {
   "cell_type": "code",
   "execution_count": 25,
   "id": "368f97f9",
   "metadata": {},
   "outputs": [],
   "source": [
    "first_n_columns = t_df.iloc[:2000, :]\n",
    "sub_X, sub_Y = sm.fit_resample(first_n_columns.drop('HeartDisease', axis=1), first_n_columns['HeartDisease'])\n",
    "subset = pd.concat([pd.DataFrame(oversampled_Y), pd.DataFrame(oversampled_X)], axis=1)"
   ]
  },
  {
   "cell_type": "code",
   "execution_count": 26,
   "id": "937f90bb",
   "metadata": {},
   "outputs": [
    {
     "name": "stdout",
     "output_type": "stream",
     "text": [
      "    rank_test_score  mean_test_score param_max_features param_max_depth\n",
      "0                20         0.531152                  5               5\n",
      "1                17         0.552209                 10               5\n",
      "2                16         0.553352                 15               5\n",
      "3                18         0.551697                 20               5\n",
      "4                19         0.550827                 25               5\n",
      "5                13         0.664432                  5              10\n",
      "6                11         0.670024                 10              10\n",
      "7                12         0.667516                 15              10\n",
      "8                14         0.662279                 20              10\n",
      "9                15         0.660545                 25              10\n",
      "10                3         0.700889                  5              15\n",
      "11                4         0.696278                 10              15\n",
      "12                6         0.690280                 15              15\n",
      "13                8         0.684374                 20              15\n",
      "14               10         0.682510                 25              15\n",
      "15                1         0.708064                  5              20\n",
      "16                2         0.701465                 10              20\n",
      "17                5         0.694943                 15              20\n",
      "18                7         0.687773                 20              20\n",
      "19                9         0.683749                 25              20\n",
      "best param: {'max_depth': 20, 'max_features': 5, 'n_estimators': 20}\n",
      "best model: RandomForestRegressor(max_depth=20, max_features=5, n_estimators=20)\n",
      "best test score: 0.7080637554559107\n"
     ]
    }
   ],
   "source": [
    "X_trainValid, X_test, y_trainValid, y_test = train_test_split(sub_X, sub_Y, test_size=0.25, random_state=42)\n",
    "\n",
    "# Try for random forest and grid search\n",
    "from sklearn.ensemble import RandomForestRegressor\n",
    "from sklearn.model_selection import ShuffleSplit\n",
    "from sklearn.model_selection import GridSearchCV\n",
    "nmc = 100\n",
    "#  Note:  no need for scaling, back to simple parameters\n",
    "# set up dictionary for grid search\n",
    "param_grid={'max_features':[5,10,15,20,25],'max_depth':[5,10,15,20],'n_estimators':[20]}\n",
    "# set up cross-validation shuffles\n",
    "cvf = ShuffleSplit(test_size=0.25,n_splits=nmc)\n",
    "# set up search\n",
    "grid_search=GridSearchCV(RandomForestRegressor(),param_grid,cv=cvf,return_train_score=True,n_jobs=-1)\n",
    "# implement search\n",
    "grid_search.fit(X_trainValid,y_trainValid)\n",
    "# move results into DataFrame\n",
    "results = pd.DataFrame(grid_search.cv_results_)\n",
    "print(results[['rank_test_score','mean_test_score','param_max_features','param_max_depth']])\n",
    "\n",
    "# Print best params and model\n",
    "print(\"best param:\",grid_search.best_params_)\n",
    "print(\"best model:\",grid_search.best_estimator_)\n",
    "print(\"best test score:\",grid_search.best_score_)"
   ]
  },
  {
   "cell_type": "code",
   "execution_count": 27,
   "id": "2c417e2a",
   "metadata": {},
   "outputs": [
    {
     "name": "stdout",
     "output_type": "stream",
     "text": [
      "Best Model Result:\n",
      "0.9510843148886332\n",
      "0.7065718874696876\n",
      "Final test sample:\n",
      "0.7248901343489291\n"
     ]
    }
   ],
   "source": [
    "best_model = grid_search.best_estimator_\n",
    "\n",
    "CVInfo = cross_validate(best_model, X_trainValid, y_trainValid, cv=shuffle,return_train_score=True,n_jobs=-1)\n",
    "\n",
    "print(\"Best Model Result:\")\n",
    "print(np.mean(CVInfo['train_score']))\n",
    "print(np.mean(CVInfo['test_score']))\n",
    "\n",
    "print(\"Final test sample:\")\n",
    "best_model.fit(X_trainValid,y_trainValid)\n",
    "print(best_model.score(X_test,y_test))"
   ]
  },
  {
   "cell_type": "markdown",
   "id": "601c6c9b",
   "metadata": {},
   "source": [
    "## 8. Gradient Boosting"
   ]
  },
  {
   "cell_type": "code",
   "execution_count": 28,
   "id": "882541f8",
   "metadata": {},
   "outputs": [
    {
     "data": {
      "image/png": "[encoded data removed]",
      "text/plain": [
       "<Figure size 432x288 with 1 Axes>"
      ]
     },
     "metadata": {
      "needs_background": "light"
     },
     "output_type": "display_data"
    }
   ],
   "source": [
    "from sklearn.ensemble import GradientBoostingRegressor\n",
    "from sklearn.model_selection import ShuffleSplit\n",
    "from sklearn.model_selection import cross_validate\n",
    "\n",
    "scoreTrainList = []\n",
    "scoreTestList  = []\n",
    "scoreTestx = []\n",
    "\n",
    "treeSet = np.arange(start=1,stop=100,step=10,dtype=int)\n",
    "nSets = len(treeSet)\n",
    "treeScores = np.zeros(nSets)\n",
    "for i in range(nSets):\n",
    "    gbr = GradientBoostingRegressor(n_estimators=treeSet[i],max_depth=20,learning_rate=0.1)\n",
    "    cvf = ShuffleSplit(n_splits=100, test_size=0.25)\n",
    "    CVInfo = cross_validate(gbr, sub_X, sub_Y, cv=shuffle,return_train_score=True,n_jobs=-1)\n",
    "    scoreTrainList.append(np.mean(CVInfo['train_score']))\n",
    "    scoreTestList.append(np.mean(CVInfo['test_score']))\n",
    "    scoreTestx.append(treeSet[i])\n",
    "plt.plot(scoreTestx,scoreTrainList,label=\"Train\")\n",
    "plt.plot(scoreTestx,scoreTestList,label=\"Test\")\n",
    "plt.xlabel(\"Trees\")\n",
    "plt.ylabel(\"Accuracy\")\n",
    "plt.legend()\n",
    "plt.grid()"
   ]
  },
  {
   "cell_type": "markdown",
   "id": "725bcb7d",
   "metadata": {},
   "source": [
    "## 9. Neural Network"
   ]
  },
  {
   "cell_type": "code",
   "execution_count": 7,
   "id": "8efdb93a",
   "metadata": {
    "pycharm": {
     "name": "#%%\n"
    }
   },
   "outputs": [],
   "source": [
    "import os\n",
    "os.environ[\"CUDA_VISIBLE_DEVICES\"] = \"0\""
   ]
  },
  {
   "cell_type": "code",
   "execution_count": 8,
   "id": "ad70fd3e",
   "metadata": {
    "pycharm": {
     "name": "#%%\n"
    }
   },
   "outputs": [],
   "source": [
    "from keras.preprocessing.text import Tokenizer\n",
    "import tensorflow as tf\n",
    "from tensorflow import keras\n",
    "from keras.preprocessing import image\n",
    "from tensorflow.keras import layers"
   ]
  },
  {
   "cell_type": "code",
   "execution_count": 9,
   "id": "93d7f9d0",
   "metadata": {
    "pycharm": {
     "name": "#%%\n"
    }
   },
   "outputs": [
    {
     "name": "stdout",
     "output_type": "stream",
     "text": [
      "[PhysicalDevice(name='/physical_device:CPU:0', device_type='CPU'), PhysicalDevice(name='/physical_device:GPU:0', device_type='GPU')]\n"
     ]
    }
   ],
   "source": [
    "# Check for GPU\n",
    "if not tf.config.list_physical_devices('GPU'):\n",
    "    print(\"No GPU was detected. LSTMs and CNNs can be very slow without a GPU.\")\n",
    "#     if IS_COLAB:\n",
    "#         print(\"Go to Runtime > Change runtime and select a GPU hardware accelerator.\")\n",
    "print(tf.config.list_physical_devices())"
   ]
  },
  {
   "cell_type": "code",
   "execution_count": 22,
   "id": "656eb33a",
   "metadata": {
    "pycharm": {
     "name": "#%%\n"
    }
   },
   "outputs": [],
   "source": [
    "X_train_full, X_test, y_train_full, y_test = train_test_split(oversampled_X, oversampled_Y,test_size=0.25)\n",
    "X_train, X_valid, y_train, y_valid = train_test_split(X_train_full, y_train_full)\n",
    "\n",
    "scaler = StandardScaler()\n",
    "X_train = scaler.fit_transform(X_train)\n",
    "X_valid = scaler.transform(X_valid)\n",
    "X_test = scaler.transform(X_test)"
   ]
  },
  {
   "cell_type": "code",
   "execution_count": 36,
   "id": "98257e3f",
   "metadata": {},
   "outputs": [
    {
     "name": "stdout",
     "output_type": "stream",
     "text": [
      "Model: \"sequential_6\"\n",
      "_________________________________________________________________\n",
      " Layer (type)                Output Shape              Param #   \n",
      "=================================================================\n",
      " dense_21 (Dense)            (None, 30)                780       \n",
      "                                                                 \n",
      " dense_22 (Dense)            (None, 30)                930       \n",
      "                                                                 \n",
      " dense_23 (Dense)            (None, 1)                 31        \n",
      "                                                                 \n",
      "=================================================================\n",
      "Total params: 1,741\n",
      "Trainable params: 1,741\n",
      "Non-trainable params: 0\n",
      "_________________________________________________________________\n"
     ]
    }
   ],
   "source": [
    "model = keras.Sequential([\n",
    "    keras.layers.Dense(30, activation=\"relu\", input_shape=X_train.shape[1:]),\n",
    "    keras.layers.Dense(30, activation=\"relu\"),\n",
    "    keras.layers.Dense(1,activation=\"sigmoid\")\n",
    "])\n",
    "model.compile(optimizer=\"adam\", loss=\"binary_crossentropy\",metrics=['accuracy'])\n",
    "model.summary()"
   ]
  },
  {
   "cell_type": "code",
   "execution_count": 57,
   "id": "6252eb4b",
   "metadata": {
    "pycharm": {
     "name": "#%%\n"
    }
   },
   "outputs": [
    {
     "name": "stdout",
     "output_type": "stream",
     "text": [
      "Epoch 1/40\n",
      "103/103 [==============================] - 1s 9ms/step - loss: 0.3730 - accuracy: 0.8258 - val_loss: 0.3780 - val_accuracy: 0.8240\n",
      "Epoch 2/40\n",
      "103/103 [==============================] - 1s 8ms/step - loss: 0.3731 - accuracy: 0.8254 - val_loss: 0.3789 - val_accuracy: 0.8232\n",
      "Epoch 3/40\n",
      "103/103 [==============================] - 1s 8ms/step - loss: 0.3732 - accuracy: 0.8256 - val_loss: 0.3780 - val_accuracy: 0.8233\n",
      "Epoch 4/40\n",
      "103/103 [==============================] - 1s 8ms/step - loss: 0.3726 - accuracy: 0.8263 - val_loss: 0.3783 - val_accuracy: 0.8228\n",
      "Epoch 5/40\n",
      "103/103 [==============================] - 1s 8ms/step - loss: 0.3726 - accuracy: 0.8257 - val_loss: 0.3777 - val_accuracy: 0.8237\n",
      "Epoch 6/40\n",
      "103/103 [==============================] - 1s 8ms/step - loss: 0.3728 - accuracy: 0.8257 - val_loss: 0.3785 - val_accuracy: 0.8228\n",
      "Epoch 7/40\n",
      "103/103 [==============================] - 1s 8ms/step - loss: 0.3726 - accuracy: 0.8260 - val_loss: 0.3784 - val_accuracy: 0.8233\n",
      "Epoch 8/40\n",
      "103/103 [==============================] - 1s 8ms/step - loss: 0.3730 - accuracy: 0.8255 - val_loss: 0.3777 - val_accuracy: 0.8241\n",
      "Epoch 9/40\n",
      "103/103 [==============================] - 1s 8ms/step - loss: 0.3728 - accuracy: 0.8257 - val_loss: 0.3788 - val_accuracy: 0.8229\n",
      "Epoch 10/40\n",
      "103/103 [==============================] - 1s 8ms/step - loss: 0.3728 - accuracy: 0.8258 - val_loss: 0.3777 - val_accuracy: 0.8235\n",
      "Epoch 11/40\n",
      "103/103 [==============================] - 1s 8ms/step - loss: 0.3728 - accuracy: 0.8262 - val_loss: 0.3781 - val_accuracy: 0.8234\n",
      "Epoch 12/40\n",
      "103/103 [==============================] - 1s 8ms/step - loss: 0.3725 - accuracy: 0.8263 - val_loss: 0.3789 - val_accuracy: 0.8225\n",
      "Epoch 13/40\n",
      "103/103 [==============================] - 1s 8ms/step - loss: 0.3727 - accuracy: 0.8261 - val_loss: 0.3803 - val_accuracy: 0.8217\n",
      "Epoch 14/40\n",
      "103/103 [==============================] - 1s 8ms/step - loss: 0.3723 - accuracy: 0.8262 - val_loss: 0.3787 - val_accuracy: 0.8234\n",
      "Epoch 15/40\n",
      "103/103 [==============================] - 1s 8ms/step - loss: 0.3728 - accuracy: 0.8261 - val_loss: 0.3772 - val_accuracy: 0.8246\n",
      "Epoch 16/40\n",
      "103/103 [==============================] - 1s 8ms/step - loss: 0.3723 - accuracy: 0.8259 - val_loss: 0.3778 - val_accuracy: 0.8232\n",
      "Epoch 17/40\n",
      "103/103 [==============================] - 1s 8ms/step - loss: 0.3722 - accuracy: 0.8262 - val_loss: 0.3781 - val_accuracy: 0.8242\n",
      "Epoch 18/40\n",
      "103/103 [==============================] - 1s 8ms/step - loss: 0.3723 - accuracy: 0.8262 - val_loss: 0.3774 - val_accuracy: 0.8241\n",
      "Epoch 19/40\n",
      "103/103 [==============================] - 1s 8ms/step - loss: 0.3724 - accuracy: 0.8261 - val_loss: 0.3780 - val_accuracy: 0.8241\n",
      "Epoch 20/40\n",
      "103/103 [==============================] - 1s 8ms/step - loss: 0.3724 - accuracy: 0.8260 - val_loss: 0.3787 - val_accuracy: 0.8230\n",
      "Epoch 21/40\n",
      "103/103 [==============================] - 1s 8ms/step - loss: 0.3724 - accuracy: 0.8260 - val_loss: 0.3777 - val_accuracy: 0.8234\n",
      "Epoch 22/40\n",
      "103/103 [==============================] - 1s 8ms/step - loss: 0.3722 - accuracy: 0.8259 - val_loss: 0.3772 - val_accuracy: 0.8234\n",
      "Epoch 23/40\n",
      "103/103 [==============================] - 1s 8ms/step - loss: 0.3724 - accuracy: 0.8259 - val_loss: 0.3785 - val_accuracy: 0.8231\n",
      "Epoch 24/40\n",
      "103/103 [==============================] - 1s 9ms/step - loss: 0.3721 - accuracy: 0.8264 - val_loss: 0.3787 - val_accuracy: 0.8228\n",
      "Epoch 25/40\n",
      "103/103 [==============================] - 1s 8ms/step - loss: 0.3725 - accuracy: 0.8258 - val_loss: 0.3781 - val_accuracy: 0.8229\n",
      "Epoch 26/40\n",
      "103/103 [==============================] - 1s 8ms/step - loss: 0.3724 - accuracy: 0.8258 - val_loss: 0.3772 - val_accuracy: 0.8246\n",
      "Epoch 27/40\n",
      "103/103 [==============================] - 1s 7ms/step - loss: 0.3723 - accuracy: 0.8262 - val_loss: 0.3774 - val_accuracy: 0.8236\n",
      "Epoch 28/40\n",
      "103/103 [==============================] - 1s 8ms/step - loss: 0.3724 - accuracy: 0.8261 - val_loss: 0.3775 - val_accuracy: 0.8235\n",
      "Epoch 29/40\n",
      "103/103 [==============================] - 1s 7ms/step - loss: 0.3721 - accuracy: 0.8259 - val_loss: 0.3784 - val_accuracy: 0.8237\n",
      "Epoch 30/40\n",
      "103/103 [==============================] - 1s 8ms/step - loss: 0.3722 - accuracy: 0.8260 - val_loss: 0.3781 - val_accuracy: 0.8235\n",
      "Epoch 31/40\n",
      "103/103 [==============================] - 1s 8ms/step - loss: 0.3721 - accuracy: 0.8261 - val_loss: 0.3781 - val_accuracy: 0.8240\n",
      "Epoch 32/40\n",
      "103/103 [==============================] - 1s 8ms/step - loss: 0.3719 - accuracy: 0.8264 - val_loss: 0.3778 - val_accuracy: 0.8236\n",
      "Epoch 33/40\n",
      "103/103 [==============================] - 1s 8ms/step - loss: 0.3722 - accuracy: 0.8265 - val_loss: 0.3784 - val_accuracy: 0.8224\n",
      "Epoch 34/40\n",
      "103/103 [==============================] - 1s 8ms/step - loss: 0.3719 - accuracy: 0.8261 - val_loss: 0.3772 - val_accuracy: 0.8243\n",
      "Epoch 35/40\n",
      "103/103 [==============================] - 1s 8ms/step - loss: 0.3716 - accuracy: 0.8267 - val_loss: 0.3773 - val_accuracy: 0.8240\n",
      "Epoch 36/40\n",
      "103/103 [==============================] - 1s 8ms/step - loss: 0.3723 - accuracy: 0.8262 - val_loss: 0.3776 - val_accuracy: 0.8240\n",
      "Epoch 37/40\n",
      "103/103 [==============================] - 1s 8ms/step - loss: 0.3723 - accuracy: 0.8260 - val_loss: 0.3773 - val_accuracy: 0.8231\n",
      "Epoch 38/40\n",
      "103/103 [==============================] - 1s 8ms/step - loss: 0.3717 - accuracy: 0.8264 - val_loss: 0.3767 - val_accuracy: 0.8238\n",
      "Epoch 39/40\n",
      "103/103 [==============================] - 1s 8ms/step - loss: 0.3718 - accuracy: 0.8268 - val_loss: 0.3778 - val_accuracy: 0.8233\n",
      "Epoch 40/40\n",
      "103/103 [==============================] - 1s 8ms/step - loss: 0.3726 - accuracy: 0.8262 - val_loss: 0.3785 - val_accuracy: 0.8243\n"
     ]
    }
   ],
   "source": [
    "history = model.fit(X_train, y_train, epochs=40, validation_data=(X_valid, y_valid),batch_size=3200)"
   ]
  },
  {
   "cell_type": "code",
   "execution_count": 58,
   "id": "57854aff",
   "metadata": {
    "pycharm": {
     "name": "#%%\n"
    }
   },
   "outputs": [
    {
     "data": {
      "image/png": "[encoded data removed]",
      "text/plain": [
       "<Figure size 1080x360 with 1 Axes>"
      ]
     },
     "metadata": {
      "needs_background": "light"
     },
     "output_type": "display_data"
    }
   ],
   "source": [
    "pd.DataFrame(history.history).plot(figsize=(15, 5))\n",
    "plt.grid(True)\n",
    "#plt.gca().set_xlim(0,20)\n",
    "#plt.gca().set_ylim(0, 1)\n",
    "plt.show()"
   ]
  },
  {
   "cell_type": "code",
   "execution_count": 59,
   "id": "4ab18788",
   "metadata": {
    "pycharm": {
     "name": "#%%\n"
    }
   },
   "outputs": [
    {
     "name": "stdout",
     "output_type": "stream",
     "text": [
      "Train: 0.827, Test: 0.825\n"
     ]
    }
   ],
   "source": [
    "_, train_acc = model.evaluate(X_train, y_train, verbose=0)\n",
    "_, test_acc = model.evaluate(X_test, y_test, verbose=0)\n",
    "print('Train: %.3f, Test: %.3f' % (train_acc, test_acc))"
   ]
  },
  {
   "cell_type": "markdown",
   "id": "074573e5",
   "metadata": {},
   "source": [
    "# Conclusion:"
   ]
  },
  {
   "cell_type": "markdown",
   "id": "79f7812a",
   "metadata": {},
   "source": [
    "* Models which used cross-validation were using nmc = 250 or 100, test size = 0.25\n",
    "* Models with hyper-parameters were using grid search to find the best model and get the test scores."
   ]
  },
  {
   "cell_type": "markdown",
   "id": "b04222b1",
   "metadata": {},
   "source": [
    "* Test Score:\n",
    "* Linear Model: 0.3803201663940235\n",
    "* Logistic Model: 0.7843549390948698\n",
    "* KNN Model: 0.9056414662084769\n",
    "* Ridge Model: 0.38012878116834614\n",
    "* Lasso Model: 0.38006711060091436\n",
    "* Decision Tree Regressor: 0.5412123911742339\n",
    "* Random Forest: 0.7248901343489291\n",
    "* Neural Network: 0.825"
   ]
  },
  {
   "cell_type": "markdown",
   "id": "fc338fa8",
   "metadata": {},
   "source": [
    "* Although KNN model seems like working pretty good here, it might becasue the smote method we used to oversample our unblanced target variable was based on knn method. So, KNN model might not make that good results in real data. \n",
    "* Besides that, the Neural Network do the best job. Alothough the loss function graph seems a little bit strange, it might because that this problem is too simple for the Neural Network so that the curve of loss function is like a straigt line. The model of optimizer is 'Adam', and the model of loss function is 'binary_crossentropy'.\n",
    "* Random Forest and Decision Tree were the second and third best model, but the score is just okay. (Both of them are applied grid search and validation data method)\n"
   ]
  },
  {
   "cell_type": "code",
   "execution_count": null,
   "id": "650c261d",
   "metadata": {},
   "outputs": [],
   "source": []
  }
 ],
 "metadata": {
  "kernelspec": {
   "display_name": "Python 3 (ipykernel)",
   "language": "python",
   "name": "python3"
  },
  "language_info": {
   "codemirror_mode": {
    "name": "ipython",
    "version": 3
   },
   "file_extension": ".py",
   "mimetype": "text/x-python",
   "name": "python",
   "nbconvert_exporter": "python",
   "pygments_lexer": "ipython3",
   "version": "3.8.8"
  }
 },
 "nbformat": 4,
 "nbformat_minor": 5
}
