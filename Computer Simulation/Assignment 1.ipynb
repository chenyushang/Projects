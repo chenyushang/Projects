{
 "cells": [
  {
   "cell_type": "code",
   "execution_count": 2,
   "id": "f7952fbd",
   "metadata": {},
   "outputs": [],
   "source": [
    "import numpy as np\n",
    "import random "
   ]
  },
  {
   "cell_type": "code",
   "execution_count": 2,
   "id": "be30f9ef",
   "metadata": {},
   "outputs": [
    {
     "name": "stdout",
     "output_type": "stream",
     "text": [
      "2520\n"
     ]
    }
   ],
   "source": [
    "#problem 1a\n",
    "i = 12\n",
    "a = 0\n",
    "while i <= 100:\n",
    "    a += i\n",
    "    i += 2\n",
    "print(a)    "
   ]
  },
  {
   "cell_type": "code",
   "execution_count": 3,
   "id": "ee78c008",
   "metadata": {},
   "outputs": [
    {
     "name": "stdout",
     "output_type": "stream",
     "text": [
      "Mean = 4.0\n",
      "Standard Deviation = 0.6055300708194984\n"
     ]
    }
   ],
   "source": [
    "#problem 1b\n",
    "X = np.linspace(3, 5, 21)\n",
    "mean = np.mean(X)\n",
    "STDEV = np.std(X)\n",
    "print('Mean =', mean)\n",
    "print(\"Standard Deviation =\", STDEV)"
   ]
  },
  {
   "cell_type": "code",
   "execution_count": 4,
   "id": "2467011f",
   "metadata": {},
   "outputs": [
    {
     "name": "stdout",
     "output_type": "stream",
     "text": [
      "1265\n"
     ]
    }
   ],
   "source": [
    "#problem 1c\n",
    "A = np.arange(1, 11, 1)\n",
    "B = np.arange(11, 30, 2)\n",
    "Dot = np.dot(A, B)\n",
    "print(Dot)"
   ]
  },
  {
   "cell_type": "code",
   "execution_count": 25,
   "id": "e94312a7",
   "metadata": {},
   "outputs": [
    {
     "name": "stdout",
     "output_type": "stream",
     "text": [
      "Mean = 0.06722518067598617\n",
      "Standard Deviation = 1.6991490024056943\n"
     ]
    }
   ],
   "source": [
    "#problem 1d\n",
    "np.random.seed(1)\n",
    "var = 3\n",
    "sigma = np.sqrt(var)\n",
    "X = np.random.normal(0, sigma, 1000)\n",
    "mean = np.mean(X)\n",
    "stdev = np.std(X)\n",
    "print('Mean =', mean)\n",
    "print(\"Standard Deviation =\", stdev)"
   ]
  },
  {
   "cell_type": "code",
   "execution_count": 47,
   "id": "5aecedfb",
   "metadata": {
    "scrolled": true
   },
   "outputs": [
    {
     "name": "stdout",
     "output_type": "stream",
     "text": [
      "Mean of the first array = 0.12116570415139741\n",
      "Standard Deviation of the first array= 1.77031242766317\n",
      "Mean of the second array = 1.4157455821541718\n",
      "Standard Deviation of the second array= 1.069743738477639\n"
     ]
    }
   ],
   "source": [
    "#problem 1e\n",
    "np.random.seed(1)\n",
    "X = np.random.normal(loc = 0, scale = 2, size = 100)\n",
    "Y = np.copy(X)\n",
    "for i in range(100):\n",
    "     if Y[i] < 0:\n",
    "            Y[i] = -Y[i]\n",
    "mean1 = np.mean(X)\n",
    "stdev1 = np.std(X)\n",
    "mean2 = np.mean(Y)\n",
    "stdev2 = np.std(Y)\n",
    "\n",
    "print('Mean of the first array =', mean1)\n",
    "print(\"Standard Deviation of the first array=\", stdev1)\n",
    "print('Mean of the second array =', mean2)\n",
    "print(\"Standard Deviation of the second array=\", stdev2)\n"
   ]
  },
  {
   "cell_type": "code",
   "execution_count": 45,
   "id": "7ff2261f",
   "metadata": {
    "scrolled": true
   },
   "outputs": [
    {
     "name": "stdout",
     "output_type": "stream",
     "text": [
      "Mean of the first array = 0.12116570415139741\n",
      "Standard Deviation of the first array= 1.77031242766317\n",
      "Mean of the second array = 1.4157455821541718\n",
      "Standard Deviation of the second array= 1.069743738477639\n"
     ]
    }
   ],
   "source": [
    "#problem 1f\n",
    "np.random.seed(1)\n",
    "X = np.random.normal(loc = 0, scale = 2, size = 100)\n",
    "Y = np.copy(X)\n",
    "Y[Y < 0] = -1 * Y[Y < 0]\n",
    "\n",
    "mean1 = np.mean(X)\n",
    "stdev1 = np.std(X)\n",
    "mean2 = np.mean(Y)\n",
    "stdev2 = np.std(Y)\n",
    "\n",
    "print('Mean of the first array =', mean1)\n",
    "print(\"Standard Deviation of the first array=\", stdev1)\n",
    "print('Mean of the second array =', mean2)\n",
    "print(\"Standard Deviation of the second array=\", stdev2)\n"
   ]
  },
  {
   "cell_type": "code",
   "execution_count": 59,
   "id": "eb44d6a5",
   "metadata": {},
   "outputs": [
    {
     "name": "stdout",
     "output_type": "stream",
     "text": [
      "15\n",
      "X(1) =  1\n",
      "X(2) =  2\n",
      "X(3) =  3\n",
      "X(4) =  6\n",
      "X(5) =  12\n",
      "X(6) =  24\n",
      "X(7) =  48\n",
      "X(8) =  96\n",
      "X(9) =  192\n",
      "X(10) =  384\n",
      "X(11) =  768\n",
      "X(12) =  1536\n",
      "X(13) =  3072\n",
      "X(14) =  6144\n",
      "X(15) =  12288\n"
     ]
    }
   ],
   "source": [
    "#problem 2\n",
    "N = int(input())\n",
    "if N <= 0:\n",
    "    print('Error: N should be at least 1')\n",
    "if N == 1:\n",
    "    print('X(1) = ', 1)\n",
    "if N == 2:\n",
    "    print('X(1) = ', 1)\n",
    "    print('X(2) = ', 2)\n",
    "if N > 2:\n",
    "    print('X(1) = ', 1)\n",
    "    print('X(2) = ', 2)\n",
    "    X = [1, 2]\n",
    "    i = 2\n",
    "    while i < N:\n",
    "        X.append(sum(X)) \n",
    "        print('X(' + str(i+1) + ') = ', X[i])\n",
    "        i += 1"
   ]
  },
  {
   "cell_type": "code",
   "execution_count": 62,
   "id": "f7e247bb",
   "metadata": {
    "scrolled": true
   },
   "outputs": [
    {
     "name": "stdout",
     "output_type": "stream",
     "text": [
      "[[1.0e+00 1.0e-02]\n",
      " [2.0e+00 3.0e-03]\n",
      " [3.0e+00 1.5e-02]\n",
      " [4.0e+00 2.6e-02]\n",
      " [5.0e+00 6.0e-03]]\n"
     ]
    }
   ],
   "source": [
    "#problem 3a\n",
    "X = np.matrix([[1, 0.01], [2, 0.003], [3, 0.015], [4, 0.026], [5, 0.006]])\n",
    "print(X)"
   ]
  },
  {
   "cell_type": "code",
   "execution_count": 80,
   "id": "9b86288b",
   "metadata": {},
   "outputs": [
    {
     "name": "stdout",
     "output_type": "stream",
     "text": [
      "[0.01       0.01303    0.02822545 0.05495931 0.06128907]\n"
     ]
    }
   ],
   "source": [
    "#problem 3b\n",
    "Y = np.array(0.01)\n",
    "re = np.copy(Y) \n",
    "for i in range(4):\n",
    "    re = (re + 1) * (X[i+1, 1] + 1) -1\n",
    "    Y = np.append(Y, re)\n",
    "print(Y)"
   ]
  },
  {
   "cell_type": "code",
   "execution_count": 95,
   "id": "18b64154",
   "metadata": {},
   "outputs": [
    {
     "data": {
      "text/plain": [
       "<function matplotlib.pyplot.show(close=None, block=None)>"
      ]
     },
     "execution_count": 95,
     "metadata": {},
     "output_type": "execute_result"
    },
    {
     "data": {
      "image/png": "[encoded data removed]",
      "text/plain": [
       "<Figure size 432x288 with 1 Axes>"
      ]
     },
     "metadata": {
      "needs_background": "light"
     },
     "output_type": "display_data"
    }
   ],
   "source": [
    "#problem 3c\n",
    "import matplotlib.pyplot as plt\n",
    "x = [1, 2, 3, 4, 5]\n",
    "plt.xlabel('Days')\n",
    "plt.ylabel('cumulative return')\n",
    "plt.xticks(x)\n",
    "plt.plot(x, Y, color = 'b', linewidth = 2)\n",
    "plt.show"
   ]
  },
  {
   "cell_type": "code",
   "execution_count": null,
   "id": "e356ee6f",
   "metadata": {},
   "outputs": [],
   "source": []
  }
 ],
 "metadata": {
  "kernelspec": {
   "display_name": "Python 3 (ipykernel)",
   "language": "python",
   "name": "python3"
  },
  "language_info": {
   "codemirror_mode": {
    "name": "ipython",
    "version": 3
   },
   "file_extension": ".py",
   "mimetype": "text/x-python",
   "name": "python",
   "nbconvert_exporter": "python",
   "pygments_lexer": "ipython3",
   "version": "3.8.8"
  }
 },
 "nbformat": 4,
 "nbformat_minor": 5
}
