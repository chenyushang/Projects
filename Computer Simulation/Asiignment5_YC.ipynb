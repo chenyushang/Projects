{
 "cells": [
  {
   "cell_type": "code",
   "execution_count": 3,
   "id": "9bf08f8b",
   "metadata": {},
   "outputs": [],
   "source": [
    "import pandas as pd\n",
    "import yfinance as yf\n",
    "import numpy as np"
   ]
  },
  {
   "cell_type": "code",
   "execution_count": 13,
   "id": "5b9c266a",
   "metadata": {},
   "outputs": [
    {
     "name": "stdout",
     "output_type": "stream",
     "text": [
      "[*********************100%***********************]  1 of 1 completed\n",
      "[*********************100%***********************]  1 of 1 completed\n",
      "[*********************100%***********************]  1 of 1 completed\n"
     ]
    }
   ],
   "source": [
    "#1\n",
    "tickers = ['AAPL', 'MSFT', 'GS']\n",
    "start_date = '2008-12-31'\n",
    "end_date = '2018-12-31'\n",
    "\n",
    "data = pd.DataFrame()\n",
    "\n",
    "for ticker in tickers:\n",
    "    ticker_data = yf.download(ticker, start=start_date, end=end_date)\n",
    "    data[ticker] = ticker_data['Adj Close']\n",
    "\n",
    "ret_daily = pd.DataFrame(np.log(data / data.shift(1)))"
   ]
  },
  {
   "cell_type": "code",
   "execution_count": 21,
   "id": "9bbef683",
   "metadata": {},
   "outputs": [
    {
     "name": "stdout",
     "output_type": "stream",
     "text": [
      "5% VaR Historical data   2.1698\n",
      "1% VaR Historical data   4.0562\n"
     ]
    }
   ],
   "source": [
    "#1\n",
    "# add the portfolio returns \n",
    "wts_port = np.ones([3,1])/3 \n",
    "ret_stocks = ret_daily.loc[:,['AAPL', 'MSFT', 'GS']] \n",
    "ret_daily['Port'] = np.dot(ret_stocks,wts_port)\n",
    "ret_daily.dropna(inplace = True)\n",
    "\n",
    "port1day = 100*(ret_daily['Port']+1)\n",
    "port1day.dropna(inplace=True)\n",
    "# find historical var using direct percentile on portfolio values\n",
    "#    report the oposite of the loss\n",
    "var05Hist = 100-np.percentile(port1day,5)\n",
    "print(\"5% VaR Historical data {0:8.4f}\".format(var05Hist) )\n",
    "\n",
    "# find historical var using direct percentile on portfolio values\n",
    "var01Hist = 100-np.percentile(port1day,1)\n",
    "print(\"1% VaR Historical data {0:8.4f}\".format(var01Hist) )"
   ]
  },
  {
   "cell_type": "code",
   "execution_count": 22,
   "id": "192f8e65",
   "metadata": {},
   "outputs": [
    {
     "name": "stdout",
     "output_type": "stream",
     "text": [
      "5% VaR Normal   2.2016\n",
      "1% VaR Normal   3.1432\n"
     ]
    }
   ],
   "source": [
    "#2\n",
    "import scipy.stats as stats\n",
    "\n",
    "s = np.std(ret_daily['Port'])\n",
    "m = np.mean(ret_daily['Port'])\n",
    "\n",
    "# VaR(0.05) 5% percentile  \n",
    "RStar05 = stats.norm.ppf(0.05, m, s)\n",
    "var05Norm = -100*RStar05\n",
    "#print(\"5% VaR Normal\"+ \"%8.2f\" % var05Norm)\n",
    "print(\"5% VaR Normal {0:8.4f}\".format(var05Norm))\n",
    "\n",
    "# Normal Analytical VaR(0.01) \n",
    "RStar01 = stats.norm.ppf(0.01, m, s)\n",
    "var01Norm = -100*RStar01\n",
    "print(\"1% VaR Normal {0:8.4f}\".format(var01Norm))"
   ]
  },
  {
   "cell_type": "code",
   "execution_count": 23,
   "id": "8fd270cc",
   "metadata": {},
   "outputs": [
    {
     "name": "stdout",
     "output_type": "stream",
     "text": [
      "5% student-t Monte Carlo VaR   1.9088\n",
      "1% student-t Monte Carlo VaR   3.8505\n"
     ]
    }
   ],
   "source": [
    "#3\n",
    "tdf, tmean, tsigma = stats.t.fit(ret_daily['Port'])\n",
    "\n",
    "N = 10000; #number of simulations\n",
    "\n",
    "np.random.seed(1)\n",
    "\n",
    "# generate randrom returns using fitted student-t parameters from above,\n",
    "PortRet_MC_t = stats.t.rvs(tdf, loc=tmean, scale=tsigma, size=N)\n",
    "# Make sure loss doesn't exceed -100%\n",
    "PortRet_MC_t[PortRet_MC_t<-1.0]=-1.0;\n",
    "\n",
    "PortRet_MC_t_Sorted= np.sort(PortRet_MC_t)\n",
    "\n",
    "ID_At_p = round(0.05*N)-1\n",
    "\n",
    "PortRet_At_p_MC_t = PortRet_MC_t_Sorted[ID_At_p]\n",
    "PortRet_MC_LeftTail_t = PortRet_MC_t_Sorted[0:(ID_At_p+1)]\n",
    "\n",
    "VAR_At_p_MC_t = - 100* PortRet_At_p_MC_t\n",
    "\n",
    "print(\"5% student-t Monte Carlo VaR {0:8.4f}\".format(VAR_At_p_MC_t))\n",
    "\n",
    "ID_At_p1 = round(0.01*N)-1\n",
    "\n",
    "PortRet_At_p_MC_t1 = PortRet_MC_t_Sorted[ID_At_p1]\n",
    "PortRet_MC_LeftTail_t1 = PortRet_MC_t_Sorted[0:(ID_At_p1+1)]\n",
    "\n",
    "VAR_At_p_MC_t1 = - 100* PortRet_At_p_MC_t1\n",
    "\n",
    "print(\"1% student-t Monte Carlo VaR {0:8.4f}\".format(VAR_At_p_MC_t1))"
   ]
  },
  {
   "cell_type": "code",
   "execution_count": 32,
   "id": "37bc81ff",
   "metadata": {},
   "outputs": [
    {
     "name": "stdout",
     "output_type": "stream",
     "text": [
      "Forecasted portfolio volatility for the next day: [[0.01406768]]\n",
      "Annualized portfolio volatility:  [[0.22331752]]\n",
      "Expected range of portfolio returns: +/- [[0.43770234]]\n"
     ]
    }
   ],
   "source": [
    "#4a\n",
    "# Stack daily log-returns of three stocks into a matrix\n",
    "log_returns_matrix = np.stack((ret_daily['AAPL'], ret_daily['MSFT'], ret_daily['GS']), axis=1)\n",
    "\n",
    "# Calculate covariance matrix of stacked daily log-returns\n",
    "covariance_matrix = np.cov(log_returns_matrix, rowvar=False)\n",
    "\n",
    "# Define decay factor lambda as 0.94\n",
    "decay_factor = 0.94\n",
    "\n",
    "# Calculate EWMA covariance matrix\n",
    "ewma_covariance_matrix = decay_factor * covariance_matrix + (1 - decay_factor) * np.eye(3) * np.trace(covariance_matrix)\n",
    "\n",
    "# Calculate portfolio volatility\n",
    "portfolio_volatility = np.sqrt(np.dot(wts_port.T, np.dot(ewma_covariance_matrix, wts_port)))\n",
    "\n",
    "# Annualize portfolio volatility\n",
    "annualized_volatility = portfolio_volatility * np.sqrt(252)\n",
    "\n",
    "# Calculate expected range of portfolio returns\n",
    "expected_range = 1.96 * annualized_volatility\n",
    "\n",
    "# Print the results\n",
    "print(\"Forecasted portfolio volatility for the next day:\" , portfolio_volatility)\n",
    "print(\"Annualized portfolio volatility: \", annualized_volatility)\n",
    "print(\"Expected range of portfolio returns: +/-\", expected_range)"
   ]
  },
  {
   "cell_type": "code",
   "execution_count": 37,
   "id": "4c24e617",
   "metadata": {},
   "outputs": [
    {
     "name": "stdout",
     "output_type": "stream",
     "text": [
      "1% VaR for 01/02/2019: [[0.02313928]]\n",
      "1% CVaR for 01/02/2019: [[-0.02901759]]\n",
      "5% VaR for 01/02/2019: [[0.02313928]]\n",
      "5% CVaR for 01/02/2019: [[-0.02901759]]\n"
     ]
    }
   ],
   "source": [
    "#4b\n",
    "import scipy.stats as stats\n",
    "\n",
    "\n",
    "# Calculate the VaR and CVaR for each confidence level\n",
    "\n",
    "# Calculate the VaR using the normal distribution\n",
    "VaR1 = -portfolio_volatility * stats.norm.ppf(0.01)\n",
    "    \n",
    "# Calculate the CVaR using the normal distribution\n",
    "CVaR1 = -((1/0.01) * stats.norm.pdf(stats.norm.ppf(0.01)) * portfolio_volatility)\n",
    "    \n",
    "print('1% VaR for 01/02/2019:', VaR)\n",
    "print('1% CVaR for 01/02/2019:', CVaR)\n",
    "\n",
    "# Calculate the VaR using the normal distribution\n",
    "VaR1 = -portfolio_volatility * stats.norm.ppf(0.05)\n",
    "    \n",
    "# Calculate the CVaR using the normal distribution\n",
    "CVaR1 = -((1/0.05) * stats.norm.pdf(stats.norm.ppf(0.05)) * portfolio_volatility)\n",
    "    \n",
    "print('5% VaR for 01/02/2019:', VaR)\n",
    "print('5% CVaR for 01/02/2019:', CVaR)"
   ]
  },
  {
   "cell_type": "code",
   "execution_count": null,
   "id": "76010d29",
   "metadata": {},
   "outputs": [],
   "source": []
  }
 ],
 "metadata": {
  "kernelspec": {
   "display_name": "Python 3 (ipykernel)",
   "language": "python",
   "name": "python3"
  },
  "language_info": {
   "codemirror_mode": {
    "name": "ipython",
    "version": 3
   },
   "file_extension": ".py",
   "mimetype": "text/x-python",
   "name": "python",
   "nbconvert_exporter": "python",
   "pygments_lexer": "ipython3",
   "version": "3.8.8"
  }
 },
 "nbformat": 4,
 "nbformat_minor": 5
}
