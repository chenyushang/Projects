{
 "cells": [
  {
   "cell_type": "code",
   "execution_count": 6,
   "id": "a5a48694",
   "metadata": {},
   "outputs": [],
   "source": [
    "import numpy as np\n",
    "import pandas as pd \n",
    "pd.core.common.is_list_like = pd.api.types.is_list_like \n",
    "import pandas_datareader as web \n",
    "from pandas_datareader import data as pdr \n",
    "import yfinance as yf \n",
    "yf.pdr_override()  \n",
    "import datetime  \n",
    "import matplotlib.pyplot as plt \n",
    " \n",
    "import warnings \n",
    "warnings.filterwarnings(\"ignore\") \n",
    "\n",
    "# function to get the price data from yahoo finance  \n",
    "def getDataBatch(tickers, startdate, enddate): \n",
    "    def getData(ticker): \n",
    "        return (pdr.get_data_yahoo(ticker, start=startdate, end=enddate)) \n",
    "    datas = map(getData, tickers)    \n",
    "    return(pd.concat(datas, keys=tickers, names=['Ticker', 'Date']))"
   ]
  },
  {
   "cell_type": "code",
   "execution_count": 24,
   "id": "a54c798f",
   "metadata": {},
   "outputs": [
    {
     "name": "stdout",
     "output_type": "stream",
     "text": [
      "[*********************100%***********************]  1 of 1 completed\n",
      "[*********************100%***********************]  1 of 1 completed\n",
      "[*********************100%***********************]  1 of 1 completed\n",
      "Annualized geometric mean returns:\n",
      "Ticker\n",
      "AAPL    0.354567\n",
      "AMZN    0.484238\n",
      "GS      0.137258\n",
      "Port    0.317442\n",
      "dtype: float64\n",
      "Annualized simple mean returns:\n",
      "Ticker\n",
      "AAPL    0.303665\n",
      "AMZN    0.395211\n",
      "GS      0.128653\n",
      "Port    0.275843\n",
      "dtype: float64\n",
      "Annualized simple standard deviation:\n",
      "Ticker\n",
      "AAPL    0.266648\n",
      "AMZN    0.344107\n",
      "GS      0.315085\n",
      "Port    0.237586\n",
      "dtype: float64\n"
     ]
    }
   ],
   "source": [
    "# 1\n",
    "# Define the start and end dates\n",
    "start_date = datetime.datetime(2008, 12, 31)\n",
    "end_date = datetime.datetime(2018, 12, 31)\n",
    "\n",
    "# Define the list of tickers\n",
    "tickers = ['AAPL', 'AMZN', 'GS']\n",
    "\n",
    "# Download the data using pandas-datareader\n",
    "stock_data = getDataBatch(tickers, start_date, end_date)\n",
    "daily_close_px = stock_data.reset_index().pivot(index='Date', columns='Ticker', values='Adj Close') \n",
    "\n",
    "# Calculate the daily percentage change for `daily_close_px` \n",
    "ret_daily = daily_close_px.pct_change().dropna() \n",
    "\n",
    "# add the portfolio returns \n",
    "wts_port = np.ones([3,1])/3 \n",
    "ret_stocks = ret_daily.loc[:,['AAPL', 'AMZN', 'GS']] \n",
    "ret_daily['Port'] = np.dot(ret_stocks,wts_port) \n",
    "\n",
    "# Calculate the annualized geometric mean return \n",
    "annual_stock_returns = (1 + ret_daily.mean())**252 - 1\n",
    "print(\"Annualized geometric mean returns:\")\n",
    "print(annual_stock_returns)\n",
    "\n",
    "#calculate annualized mean  \n",
    "Ret_mean_Annual = ret_daily.mean()*252 \n",
    "print(\"Annualized simple mean returns:\")\n",
    "print(Ret_mean_Annual)\n",
    "#calculate annualized standard deviation \n",
    "Ret_std_Annual = ret_daily.std()*np.sqrt(252)\n",
    "print(\"Annualized simple standard deviation:\")\n",
    "print(Ret_std_Annual)"
   ]
  },
  {
   "cell_type": "code",
   "execution_count": 42,
   "id": "c7d4e77f",
   "metadata": {},
   "outputs": [
    {
     "name": "stdout",
     "output_type": "stream",
     "text": [
      "5% VaR Historical data   2.3001\n",
      "1% VaR Historical data   4.1493\n"
     ]
    }
   ],
   "source": [
    "#2\n",
    "\n",
    "port1day = 100*(ret_daily['Port']+1)\n",
    "# find historical var using direct percentile on portfolio values\n",
    "#    report the oposite of the loss\n",
    "var05Hist = 100-np.percentile(port1day,5)\n",
    "print(\"5% VaR Historical data {0:8.4f}\".format(var05Hist) )\n",
    "\n",
    "# find historical var using direct percentile on portfolio values\n",
    "var01Hist = 100-np.percentile(port1day,1)\n",
    "print(\"1% VaR Historical data {0:8.4f}\".format(var01Hist) )"
   ]
  },
  {
   "cell_type": "code",
   "execution_count": 41,
   "id": "e9016773",
   "metadata": {},
   "outputs": [
    {
     "name": "stdout",
     "output_type": "stream",
     "text": [
      "5% VaR Normal   2.3518\n",
      "1% VaR Normal   3.3716\n"
     ]
    }
   ],
   "source": [
    "#3\n",
    "\n",
    "s = np.std(ret_daily['Port'])\n",
    "m = np.mean(ret_daily['Port'])\n",
    "\n",
    "# VaR(0.05) 5% percentile  \n",
    "RStar05 = stats.norm.ppf(0.05, m, s)\n",
    "var05Norm = -100*RStar05\n",
    "#print(\"5% VaR Normal\"+ \"%8.2f\" % var05Norm)\n",
    "print(\"5% VaR Normal {0:8.4f}\".format(var05Norm))\n",
    "\n",
    "# Normal Analytical VaR(0.01) \n",
    "RStar01 = stats.norm.ppf(0.01, m, s)\n",
    "var01Norm = -100*RStar01\n",
    "print(\"1% VaR Normal {0:8.4f}\".format(var01Norm))"
   ]
  },
  {
   "cell_type": "code",
   "execution_count": 40,
   "id": "0b610ae9",
   "metadata": {},
   "outputs": [
    {
     "name": "stdout",
     "output_type": "stream",
     "text": [
      "5% student-t Analytical VaR   2.1344\n",
      "1% student-t Analytical VaR   4.0798\n"
     ]
    }
   ],
   "source": [
    "#4\n",
    "\n",
    "# fit the return time series using a student-t distribution\n",
    "tdf, tmean, tsigma = stats.t.fit(ret_daily['Port'])\n",
    "\n",
    "p1 = 0.01 # VaR confidence level\n",
    "p2 = 0.05\n",
    "# --- Use Student-t Inverse cdf function to calculate analytical VaR\n",
    "\n",
    "R_star_t = stats.t.ppf(p2, tdf, tmean, tsigma)\n",
    "VaR_Rstar_t =  - 100*R_star_t\n",
    "print(\"5% student-t Analytical VaR {0:8.4f}\".format(VaR_Rstar_t))\n",
    "R_star_t1 = stats.t.ppf(p1, tdf, tmean, tsigma)\n",
    "VaR_Rstar_t1 =  - 100*R_star_t1\n",
    "print(\"1% student-t Analytical VaR {0:8.4f}\".format(VaR_Rstar_t1))"
   ]
  },
  {
   "cell_type": "code",
   "execution_count": 1,
   "id": "a5e9acab",
   "metadata": {},
   "outputs": [
    {
     "ename": "NameError",
     "evalue": "name 'stats' is not defined",
     "output_type": "error",
     "traceback": [
      "\u001b[1;31m---------------------------------------------------------------------------\u001b[0m",
      "\u001b[1;31mNameError\u001b[0m                                 Traceback (most recent call last)",
      "Input \u001b[1;32mIn [1]\u001b[0m, in \u001b[0;36m<cell line: 2>\u001b[1;34m()\u001b[0m\n\u001b[0;32m      1\u001b[0m \u001b[38;5;66;03m#5\u001b[39;00m\n\u001b[1;32m----> 2\u001b[0m tdf, tmean, tsigma \u001b[38;5;241m=\u001b[39m \u001b[43mstats\u001b[49m\u001b[38;5;241m.\u001b[39mt\u001b[38;5;241m.\u001b[39mfit(ret_daily[\u001b[38;5;124m'\u001b[39m\u001b[38;5;124mPort\u001b[39m\u001b[38;5;124m'\u001b[39m])\n\u001b[0;32m      4\u001b[0m N \u001b[38;5;241m=\u001b[39m \u001b[38;5;241m10000\u001b[39m; \u001b[38;5;66;03m#number of simulations\u001b[39;00m\n\u001b[0;32m      6\u001b[0m np\u001b[38;5;241m.\u001b[39mrandom\u001b[38;5;241m.\u001b[39mseed(\u001b[38;5;241m1\u001b[39m)\n",
      "\u001b[1;31mNameError\u001b[0m: name 'stats' is not defined"
     ]
    }
   ],
   "source": [
    "#5\n",
    "\n",
    "\n",
    "N = 10000; #number of simulations\n",
    "\n",
    "np.random.seed(1)\n",
    "\n",
    "# generate randrom returns using fitted student-t parameters from above,\n",
    "PortRet_MC_t = stats.t.rvs(tdf, loc=tmean, scale=tsigma, size=N)\n",
    "# Make sure loss doesn't exceed -100%\n",
    "PortRet_MC_t[PortRet_MC_t<-1.0]=-1.0;\n",
    "\n",
    "PortRet_MC_t_Sorted= np.sort(PortRet_MC_t)\n",
    "\n",
    "ID_At_p = round(p2*N)-1\n",
    "\n",
    "PortRet_At_p_MC_t = PortRet_MC_t_Sorted[ID_At_p]\n",
    "PortRet_MC_LeftTail_t = PortRet_MC_t_Sorted[0:(ID_At_p+1)]\n",
    "\n",
    "VAR_At_p_MC_t = - 100* PortRet_At_p_MC_t\n",
    "\n",
    "print(\"5% student-t Monte Carlo VaR {0:8.4f}\".format(VAR_At_p_MC_t))\n",
    "\n",
    "ID_At_p1 = round(p1*N)-1\n",
    "\n",
    "PortRet_At_p_MC_t1 = PortRet_MC_t_Sorted[ID_At_p1]\n",
    "PortRet_MC_LeftTail_t1 = PortRet_MC_t_Sorted[0:(ID_At_p1+1)]\n",
    "\n",
    "VAR_At_p_MC_t1 = - 100* PortRet_At_p_MC_t1\n",
    "\n",
    "print(\"1% student-t Monte Carlo VaR {0:8.4f}\".format(VAR_At_p_MC_t1))"
   ]
  },
  {
   "cell_type": "code",
   "execution_count": null,
   "id": "6dfa0539",
   "metadata": {},
   "outputs": [],
   "source": []
  }
 ],
 "metadata": {
  "kernelspec": {
   "display_name": "Python 3 (ipykernel)",
   "language": "python",
   "name": "python3"
  },
  "language_info": {
   "codemirror_mode": {
    "name": "ipython",
    "version": 3
   },
   "file_extension": ".py",
   "mimetype": "text/x-python",
   "name": "python",
   "nbconvert_exporter": "python",
   "pygments_lexer": "ipython3",
   "version": "3.8.8"
  }
 },
 "nbformat": 4,
 "nbformat_minor": 5
}
