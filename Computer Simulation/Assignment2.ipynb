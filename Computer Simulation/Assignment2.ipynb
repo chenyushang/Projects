{
 "cells": [
  {
   "cell_type": "code",
   "execution_count": 1,
   "id": "197ef190",
   "metadata": {},
   "outputs": [],
   "source": [
    "import numpy as np\n",
    "import matplotlib.pyplot as plt"
   ]
  },
  {
   "cell_type": "code",
   "execution_count": 20,
   "id": "bd86e33e",
   "metadata": {},
   "outputs": [
    {
     "data": {
      "image/png": "[encoded data removed]",
      "text/plain": [
       "<Figure size 432x288 with 1 Axes>"
      ]
     },
     "metadata": {
      "needs_background": "light"
     },
     "output_type": "display_data"
    },
    {
     "data": {
      "image/png": "[encoded data removed]",
      "text/plain": [
       "<Figure size 432x288 with 1 Axes>"
      ]
     },
     "metadata": {
      "needs_background": "light"
     },
     "output_type": "display_data"
    }
   ],
   "source": [
    "#problem1\n",
    "X = np.arange(1, 10.1, 0.1)\n",
    "Y1 = X.copy() * 2\n",
    "Y2 = X.copy() ** 2 / 5\n",
    "f1 = plt.scatter(X, Y1, label = 'Y1')\n",
    "plt.scatter(X, Y2, label = 'Y2')\n",
    "plt.legend()\n",
    "plt.show(f1)\n",
    "f2 = plt.plot(X, Y1, label = 'Y1')\n",
    "plt.plot(X, Y2, label = 'Y2')\n",
    "plt.legend()\n",
    "plt.show(f2)"
   ]
  },
  {
   "cell_type": "code",
   "execution_count": 23,
   "id": "be7e9f78",
   "metadata": {},
   "outputs": [
    {
     "name": "stdout",
     "output_type": "stream",
     "text": [
      "0.13361440253771614\n"
     ]
    }
   ],
   "source": [
    "#problem 2a\n",
    "from scipy.stats import norm\n",
    "var = 1\n",
    "sigma = np.sqrt(var)\n",
    "x = 0 - 1.5 * sigma\n",
    "p = norm.cdf(x, 0, sigma) *2\n",
    "print(p)"
   ]
  },
  {
   "cell_type": "code",
   "execution_count": 24,
   "id": "6d5bc76e",
   "metadata": {},
   "outputs": [
    {
     "name": "stdout",
     "output_type": "stream",
     "text": [
      "0.13361440253771614\n"
     ]
    }
   ],
   "source": [
    "#2b\n",
    "x = 1 - 1.5 * 1.5\n",
    "p = norm.cdf(x, 1, 1.5) *2\n",
    "print(p)"
   ]
  },
  {
   "cell_type": "markdown",
   "id": "e5117243",
   "metadata": {},
   "source": [
    "#2c\n",
    "# No the answer does not depend on the mean or standard deviation. It only depends on how many standard deviation away from the mean. "
   ]
  },
  {
   "cell_type": "code",
   "execution_count": 28,
   "id": "36c28872",
   "metadata": {},
   "outputs": [
    {
     "data": {
      "text/html": [
       "<div>\n",
       "<style scoped>\n",
       "    .dataframe tbody tr th:only-of-type {\n",
       "        vertical-align: middle;\n",
       "    }\n",
       "\n",
       "    .dataframe tbody tr th {\n",
       "        vertical-align: top;\n",
       "    }\n",
       "\n",
       "    .dataframe thead th {\n",
       "        text-align: right;\n",
       "    }\n",
       "</style>\n",
       "<table border=\"1\" class=\"dataframe\">\n",
       "  <thead>\n",
       "    <tr style=\"text-align: right;\">\n",
       "      <th></th>\n",
       "      <th>Name</th>\n",
       "      <th>Score</th>\n",
       "      <th>Major</th>\n",
       "    </tr>\n",
       "  </thead>\n",
       "  <tbody>\n",
       "    <tr>\n",
       "      <th>0</th>\n",
       "      <td>Steve</td>\n",
       "      <td>90</td>\n",
       "      <td>MF</td>\n",
       "    </tr>\n",
       "    <tr>\n",
       "      <th>1</th>\n",
       "      <td>David</td>\n",
       "      <td>85</td>\n",
       "      <td>MA</td>\n",
       "    </tr>\n",
       "  </tbody>\n",
       "</table>\n",
       "</div>"
      ],
      "text/plain": [
       "    Name  Score Major\n",
       "0  Steve     90    MF\n",
       "1  David     85    MA"
      ]
     },
     "execution_count": 28,
     "metadata": {},
     "output_type": "execute_result"
    }
   ],
   "source": [
    " #problem 3\n",
    "import pandas as pd\n",
    "data = {'Name' : ['Steve', 'David'], 'Score' : [90, 85], 'Major' : ['MF', 'MA']}\n",
    "df = pd.DataFrame(data = data)\n",
    "df"
   ]
  },
  {
   "cell_type": "code",
   "execution_count": 30,
   "id": "55ab8f3d",
   "metadata": {},
   "outputs": [
    {
     "data": {
      "text/html": [
       "<div>\n",
       "<style scoped>\n",
       "    .dataframe tbody tr th:only-of-type {\n",
       "        vertical-align: middle;\n",
       "    }\n",
       "\n",
       "    .dataframe tbody tr th {\n",
       "        vertical-align: top;\n",
       "    }\n",
       "\n",
       "    .dataframe thead th {\n",
       "        text-align: right;\n",
       "    }\n",
       "</style>\n",
       "<table border=\"1\" class=\"dataframe\">\n",
       "  <thead>\n",
       "    <tr style=\"text-align: right;\">\n",
       "      <th></th>\n",
       "      <th>Name</th>\n",
       "      <th>Score</th>\n",
       "      <th>Major</th>\n",
       "    </tr>\n",
       "  </thead>\n",
       "  <tbody>\n",
       "    <tr>\n",
       "      <th>0</th>\n",
       "      <td>Steve</td>\n",
       "      <td>92</td>\n",
       "      <td>MF</td>\n",
       "    </tr>\n",
       "    <tr>\n",
       "      <th>1</th>\n",
       "      <td>David</td>\n",
       "      <td>85</td>\n",
       "      <td>MF</td>\n",
       "    </tr>\n",
       "  </tbody>\n",
       "</table>\n",
       "</div>"
      ],
      "text/plain": [
       "    Name  Score Major\n",
       "0  Steve     92    MF\n",
       "1  David     85    MF"
      ]
     },
     "execution_count": 30,
     "metadata": {},
     "output_type": "execute_result"
    }
   ],
   "source": [
    "#3a\n",
    "df['Score'] = df['Score'].replace([90], 92)\n",
    "df['Major'] = df['Major'].replace([\"MA\"], 'MF')\n",
    "df"
   ]
  },
  {
   "cell_type": "code",
   "execution_count": 31,
   "id": "ba4313e2",
   "metadata": {},
   "outputs": [
    {
     "data": {
      "text/html": [
       "<div>\n",
       "<style scoped>\n",
       "    .dataframe tbody tr th:only-of-type {\n",
       "        vertical-align: middle;\n",
       "    }\n",
       "\n",
       "    .dataframe tbody tr th {\n",
       "        vertical-align: top;\n",
       "    }\n",
       "\n",
       "    .dataframe thead th {\n",
       "        text-align: right;\n",
       "    }\n",
       "</style>\n",
       "<table border=\"1\" class=\"dataframe\">\n",
       "  <thead>\n",
       "    <tr style=\"text-align: right;\">\n",
       "      <th></th>\n",
       "      <th>Name</th>\n",
       "      <th>Score</th>\n",
       "      <th>Major</th>\n",
       "    </tr>\n",
       "  </thead>\n",
       "  <tbody>\n",
       "    <tr>\n",
       "      <th>0</th>\n",
       "      <td>Steve</td>\n",
       "      <td>92</td>\n",
       "      <td>MF</td>\n",
       "    </tr>\n",
       "    <tr>\n",
       "      <th>1</th>\n",
       "      <td>David</td>\n",
       "      <td>85</td>\n",
       "      <td>MF</td>\n",
       "    </tr>\n",
       "    <tr>\n",
       "      <th>2</th>\n",
       "      <td>John</td>\n",
       "      <td>95</td>\n",
       "      <td>MA</td>\n",
       "    </tr>\n",
       "  </tbody>\n",
       "</table>\n",
       "</div>"
      ],
      "text/plain": [
       "    Name  Score Major\n",
       "0  Steve     92    MF\n",
       "1  David     85    MF\n",
       "2   John     95    MA"
      ]
     },
     "execution_count": 31,
     "metadata": {},
     "output_type": "execute_result"
    }
   ],
   "source": [
    "#3b\n",
    "df.loc[2] = ['John', 95, 'MA']\n",
    "df"
   ]
  },
  {
   "cell_type": "code",
   "execution_count": 36,
   "id": "bb080afa",
   "metadata": {
    "scrolled": true
   },
   "outputs": [
    {
     "name": "stdout",
     "output_type": "stream",
     "text": [
      "Mean =  90.66666666666667\n",
      "Standard Deviation =  5.131601439446884\n"
     ]
    }
   ],
   "source": [
    "#3c\n",
    "Score = df['Score']\n",
    "print('Mean = ', Score.mean())\n",
    "print('Standard Deviation = ', Score.std())"
   ]
  },
  {
   "cell_type": "code",
   "execution_count": 40,
   "id": "dc53a2be",
   "metadata": {
    "scrolled": true
   },
   "outputs": [
    {
     "name": "stdout",
     "output_type": "stream",
     "text": [
      "The data types here is already the easies. Since both Name and Major are text so they should be object. Scores are integer so it should be int rather than float\n"
     ]
    },
    {
     "data": {
      "text/plain": [
       "Name     object\n",
       "Score     int64\n",
       "Major    object\n",
       "dtype: object"
      ]
     },
     "execution_count": 40,
     "metadata": {},
     "output_type": "execute_result"
    }
   ],
   "source": [
    "#3d\n",
    "\n",
    "print('The data types here is already the easies. Since both Name and Major are text so they should be object. Scores are integer so it should be int rather than float')\n",
    "df.dtypes"
   ]
  },
  {
   "cell_type": "code",
   "execution_count": 46,
   "id": "bf8a6a66",
   "metadata": {},
   "outputs": [
    {
     "name": "stdout",
     "output_type": "stream",
     "text": [
      "0.1588\n"
     ]
    }
   ],
   "source": [
    "#problem 4a\n",
    "x = [75, 150, 50, 75, 80, 25, 40, 80, 100, 10, 200, 210, 150, 80, 50, 50, 19, 100, 100, 120, 150, 170, 150, 200]\n",
    "n = 0\n",
    "X = []\n",
    "for i in range(100000):\n",
    "    y = np.random.choice(x, 3)\n",
    "    X.append(sum(y))\n",
    "    if sum(y) > 400:\n",
    "        n += 1\n",
    "print(n/100000)\n"
   ]
  },
  {
   "cell_type": "code",
   "execution_count": 67,
   "id": "200605ea",
   "metadata": {},
   "outputs": [
    {
     "data": {
      "image/png": "[encoded data removed]",
      "text/plain": [
       "<Figure size 432x288 with 1 Axes>"
      ]
     },
     "metadata": {
      "needs_background": "light"
     },
     "output_type": "display_data"
    }
   ],
   "source": [
    "from scipy.stats import norm\n",
    "mu,sd = norm.fit(X)\n",
    "\n",
    "plt.hist(X, bins=25, density=True, alpha=0.6, color='g')\n",
    "\n",
    "xmin, xmax = plt.xlim()\n",
    "x = np.linspace(xmin, xmax, 100000)\n",
    "p = norm.pdf(x, mu, sd)\n",
    "plt.plot(x, p, 'r', linewidth=1, alpha = 0.6)\n",
    "\n",
    "plt.show()"
   ]
  },
  {
   "cell_type": "code",
   "execution_count": null,
   "id": "31c99602",
   "metadata": {},
   "outputs": [],
   "source": []
  }
 ],
 "metadata": {
  "kernelspec": {
   "display_name": "Python 3 (ipykernel)",
   "language": "python",
   "name": "python3"
  },
  "language_info": {
   "codemirror_mode": {
    "name": "ipython",
    "version": 3
   },
   "file_extension": ".py",
   "mimetype": "text/x-python",
   "name": "python",
   "nbconvert_exporter": "python",
   "pygments_lexer": "ipython3",
   "version": "3.8.8"
  }
 },
 "nbformat": 4,
 "nbformat_minor": 5
}
